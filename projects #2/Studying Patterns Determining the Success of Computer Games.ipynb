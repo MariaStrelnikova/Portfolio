{
 "cells": [
  {
   "cell_type": "markdown",
   "metadata": {},
   "source": [
    "# Research on Computer Games"
   ]
  },
  {
   "cell_type": "markdown",
   "metadata": {},
   "source": [
    "From publicly available sources, we have access to historical data (up to 2016) about game sales, user and expert ratings, genres, and platforms (such as Xbox or PlayStation). \n",
    "\n",
    "**Our goal is to identify patterns that determine the success of a game. This will enable us to focus on potentially popular products and plan effective advertising campaigns**.\n",
    "\n",
    "In the dataset, we encounter the abbreviation ESRB (Entertainment Software Rating Board), which is an association that assigns age ratings to computer games. ESRB evaluates the game content and assigns an appropriate age category, such as \"Mature,\" \"Early Childhood,\" or \"Teen.\""
   ]
  },
  {
   "cell_type": "markdown",
   "metadata": {},
   "source": [
    "## Exploring Data from the File"
   ]
  },
  {
   "cell_type": "code",
   "execution_count": 1,
   "metadata": {},
   "outputs": [],
   "source": [
    "import pandas as pd\n",
    "import matplotlib.pyplot as plt\n",
    "import numpy as np\n",
    "import seaborn as sns\n",
    "from scipy import stats"
   ]
  },
  {
   "cell_type": "code",
   "execution_count": 2,
   "metadata": {},
   "outputs": [
    {
     "data": {
      "text/html": [
       "<div>\n",
       "<style scoped>\n",
       "    .dataframe tbody tr th:only-of-type {\n",
       "        vertical-align: middle;\n",
       "    }\n",
       "\n",
       "    .dataframe tbody tr th {\n",
       "        vertical-align: top;\n",
       "    }\n",
       "\n",
       "    .dataframe thead th {\n",
       "        text-align: right;\n",
       "    }\n",
       "</style>\n",
       "<table border=\"1\" class=\"dataframe\">\n",
       "  <thead>\n",
       "    <tr style=\"text-align: right;\">\n",
       "      <th></th>\n",
       "      <th>Name</th>\n",
       "      <th>Platform</th>\n",
       "      <th>Year_of_Release</th>\n",
       "      <th>Genre</th>\n",
       "      <th>NA_sales</th>\n",
       "      <th>EU_sales</th>\n",
       "      <th>JP_sales</th>\n",
       "      <th>Other_sales</th>\n",
       "      <th>Critic_Score</th>\n",
       "      <th>User_Score</th>\n",
       "      <th>Rating</th>\n",
       "    </tr>\n",
       "  </thead>\n",
       "  <tbody>\n",
       "    <tr>\n",
       "      <th>0</th>\n",
       "      <td>Wii Sports</td>\n",
       "      <td>Wii</td>\n",
       "      <td>2006.0</td>\n",
       "      <td>Sports</td>\n",
       "      <td>41.36</td>\n",
       "      <td>28.96</td>\n",
       "      <td>3.77</td>\n",
       "      <td>8.45</td>\n",
       "      <td>76.0</td>\n",
       "      <td>8</td>\n",
       "      <td>E</td>\n",
       "    </tr>\n",
       "    <tr>\n",
       "      <th>1</th>\n",
       "      <td>Super Mario Bros.</td>\n",
       "      <td>NES</td>\n",
       "      <td>1985.0</td>\n",
       "      <td>Platform</td>\n",
       "      <td>29.08</td>\n",
       "      <td>3.58</td>\n",
       "      <td>6.81</td>\n",
       "      <td>0.77</td>\n",
       "      <td>NaN</td>\n",
       "      <td>NaN</td>\n",
       "      <td>NaN</td>\n",
       "    </tr>\n",
       "    <tr>\n",
       "      <th>2</th>\n",
       "      <td>Mario Kart Wii</td>\n",
       "      <td>Wii</td>\n",
       "      <td>2008.0</td>\n",
       "      <td>Racing</td>\n",
       "      <td>15.68</td>\n",
       "      <td>12.76</td>\n",
       "      <td>3.79</td>\n",
       "      <td>3.29</td>\n",
       "      <td>82.0</td>\n",
       "      <td>8.3</td>\n",
       "      <td>E</td>\n",
       "    </tr>\n",
       "    <tr>\n",
       "      <th>3</th>\n",
       "      <td>Wii Sports Resort</td>\n",
       "      <td>Wii</td>\n",
       "      <td>2009.0</td>\n",
       "      <td>Sports</td>\n",
       "      <td>15.61</td>\n",
       "      <td>10.93</td>\n",
       "      <td>3.28</td>\n",
       "      <td>2.95</td>\n",
       "      <td>80.0</td>\n",
       "      <td>8</td>\n",
       "      <td>E</td>\n",
       "    </tr>\n",
       "    <tr>\n",
       "      <th>4</th>\n",
       "      <td>Pokemon Red/Pokemon Blue</td>\n",
       "      <td>GB</td>\n",
       "      <td>1996.0</td>\n",
       "      <td>Role-Playing</td>\n",
       "      <td>11.27</td>\n",
       "      <td>8.89</td>\n",
       "      <td>10.22</td>\n",
       "      <td>1.00</td>\n",
       "      <td>NaN</td>\n",
       "      <td>NaN</td>\n",
       "      <td>NaN</td>\n",
       "    </tr>\n",
       "  </tbody>\n",
       "</table>\n",
       "</div>"
      ],
      "text/plain": [
       "                       Name Platform  Year_of_Release         Genre  NA_sales  \\\n",
       "0                Wii Sports      Wii           2006.0        Sports     41.36   \n",
       "1         Super Mario Bros.      NES           1985.0      Platform     29.08   \n",
       "2            Mario Kart Wii      Wii           2008.0        Racing     15.68   \n",
       "3         Wii Sports Resort      Wii           2009.0        Sports     15.61   \n",
       "4  Pokemon Red/Pokemon Blue       GB           1996.0  Role-Playing     11.27   \n",
       "\n",
       "   EU_sales  JP_sales  Other_sales  Critic_Score User_Score Rating  \n",
       "0     28.96      3.77         8.45          76.0          8      E  \n",
       "1      3.58      6.81         0.77           NaN        NaN    NaN  \n",
       "2     12.76      3.79         3.29          82.0        8.3      E  \n",
       "3     10.93      3.28         2.95          80.0          8      E  \n",
       "4      8.89     10.22         1.00           NaN        NaN    NaN  "
      ]
     },
     "execution_count": 2,
     "metadata": {},
     "output_type": "execute_result"
    }
   ],
   "source": [
    "df = pd.read_csv('/datasets/games.csv') \n",
    "df.head(5)"
   ]
  },
  {
   "cell_type": "markdown",
   "metadata": {},
   "source": [
    "**Description of Variables**\n",
    "* Name — game name\n",
    "* Platform — platform\n",
    "* Year_of_Release — release year\n",
    "* Genre — game genre\n",
    "* NA_sales — sales in North America (millions of copies sold)\n",
    "* EU_sales — sales in Europe (millions of copies sold)\n",
    "* JP_sales — sales in Japan (millions of copies sold)\n",
    "* Other_sales — sales in other countries (millions of copies sold)\n",
    "* Critic_Score — critic score (maximum 100)\n",
    "* User_Score — user score (maximum 10)\n",
    "* Rating — rating from the ESRB (Entertainment Software Rating Board) organization, which assigns age-appropriate categories to computer games."
   ]
  },
  {
   "cell_type": "markdown",
   "metadata": {},
   "source": [
    "Let's assess the size of the table, variable types, and also check for possible missing values:"
   ]
  },
  {
   "cell_type": "code",
   "execution_count": 3,
   "metadata": {},
   "outputs": [
    {
     "name": "stdout",
     "output_type": "stream",
     "text": [
      "<class 'pandas.core.frame.DataFrame'>\n",
      "RangeIndex: 16715 entries, 0 to 16714\n",
      "Data columns (total 11 columns):\n",
      " #   Column           Non-Null Count  Dtype  \n",
      "---  ------           --------------  -----  \n",
      " 0   Name             16713 non-null  object \n",
      " 1   Platform         16715 non-null  object \n",
      " 2   Year_of_Release  16446 non-null  float64\n",
      " 3   Genre            16713 non-null  object \n",
      " 4   NA_sales         16715 non-null  float64\n",
      " 5   EU_sales         16715 non-null  float64\n",
      " 6   JP_sales         16715 non-null  float64\n",
      " 7   Other_sales      16715 non-null  float64\n",
      " 8   Critic_Score     8137 non-null   float64\n",
      " 9   User_Score       10014 non-null  object \n",
      " 10  Rating           9949 non-null   object \n",
      "dtypes: float64(6), object(5)\n",
      "memory usage: 1.4+ MB\n"
     ]
    }
   ],
   "source": [
    "df.info()"
   ]
  },
  {
   "cell_type": "code",
   "execution_count": 4,
   "metadata": {},
   "outputs": [
    {
     "data": {
      "text/html": [
       "<style  type=\"text/css\" >\n",
       "#T_0bceb_row0_col0,#T_0bceb_row1_col0,#T_0bceb_row3_col0,#T_0bceb_row4_col0,#T_0bceb_row5_col0,#T_0bceb_row6_col0,#T_0bceb_row7_col0{\n",
       "            background-color:  #3b4cc0;\n",
       "            color:  #f1f1f1;\n",
       "        }#T_0bceb_row2_col0{\n",
       "            background-color:  #445acc;\n",
       "            color:  #f1f1f1;\n",
       "        }#T_0bceb_row8_col0{\n",
       "            background-color:  #b40426;\n",
       "            color:  #f1f1f1;\n",
       "        }#T_0bceb_row9_col0{\n",
       "            background-color:  #f18d6f;\n",
       "            color:  #000000;\n",
       "        }#T_0bceb_row10_col0{\n",
       "            background-color:  #f08a6c;\n",
       "            color:  #000000;\n",
       "        }</style><table id=\"T_0bceb_\" ><thead>    <tr>        <th class=\"blank level0\" ></th>        <th class=\"col_heading level0 col0\" >0</th>    </tr></thead><tbody>\n",
       "                <tr>\n",
       "                        <th id=\"T_0bceb_level0_row0\" class=\"row_heading level0 row0\" >Name</th>\n",
       "                        <td id=\"T_0bceb_row0_col0\" class=\"data row0 col0\" >0.010000</td>\n",
       "            </tr>\n",
       "            <tr>\n",
       "                        <th id=\"T_0bceb_level0_row1\" class=\"row_heading level0 row1\" >Platform</th>\n",
       "                        <td id=\"T_0bceb_row1_col0\" class=\"data row1 col0\" >0.000000</td>\n",
       "            </tr>\n",
       "            <tr>\n",
       "                        <th id=\"T_0bceb_level0_row2\" class=\"row_heading level0 row2\" >Year_of_Release</th>\n",
       "                        <td id=\"T_0bceb_row2_col0\" class=\"data row2 col0\" >1.610000</td>\n",
       "            </tr>\n",
       "            <tr>\n",
       "                        <th id=\"T_0bceb_level0_row3\" class=\"row_heading level0 row3\" >Genre</th>\n",
       "                        <td id=\"T_0bceb_row3_col0\" class=\"data row3 col0\" >0.010000</td>\n",
       "            </tr>\n",
       "            <tr>\n",
       "                        <th id=\"T_0bceb_level0_row4\" class=\"row_heading level0 row4\" >NA_sales</th>\n",
       "                        <td id=\"T_0bceb_row4_col0\" class=\"data row4 col0\" >0.000000</td>\n",
       "            </tr>\n",
       "            <tr>\n",
       "                        <th id=\"T_0bceb_level0_row5\" class=\"row_heading level0 row5\" >EU_sales</th>\n",
       "                        <td id=\"T_0bceb_row5_col0\" class=\"data row5 col0\" >0.000000</td>\n",
       "            </tr>\n",
       "            <tr>\n",
       "                        <th id=\"T_0bceb_level0_row6\" class=\"row_heading level0 row6\" >JP_sales</th>\n",
       "                        <td id=\"T_0bceb_row6_col0\" class=\"data row6 col0\" >0.000000</td>\n",
       "            </tr>\n",
       "            <tr>\n",
       "                        <th id=\"T_0bceb_level0_row7\" class=\"row_heading level0 row7\" >Other_sales</th>\n",
       "                        <td id=\"T_0bceb_row7_col0\" class=\"data row7 col0\" >0.000000</td>\n",
       "            </tr>\n",
       "            <tr>\n",
       "                        <th id=\"T_0bceb_level0_row8\" class=\"row_heading level0 row8\" >Critic_Score</th>\n",
       "                        <td id=\"T_0bceb_row8_col0\" class=\"data row8 col0\" >51.320000</td>\n",
       "            </tr>\n",
       "            <tr>\n",
       "                        <th id=\"T_0bceb_level0_row9\" class=\"row_heading level0 row9\" >User_Score</th>\n",
       "                        <td id=\"T_0bceb_row9_col0\" class=\"data row9 col0\" >40.090000</td>\n",
       "            </tr>\n",
       "            <tr>\n",
       "                        <th id=\"T_0bceb_level0_row10\" class=\"row_heading level0 row10\" >Rating</th>\n",
       "                        <td id=\"T_0bceb_row10_col0\" class=\"data row10 col0\" >40.480000</td>\n",
       "            </tr>\n",
       "    </tbody></table>"
      ],
      "text/plain": [
       "<pandas.io.formats.style.Styler at 0x7f741aff2700>"
      ]
     },
     "execution_count": 4,
     "metadata": {},
     "output_type": "execute_result"
    }
   ],
   "source": [
    "pd.DataFrame(round((df.isna().mean()*100),2)).style.background_gradient('coolwarm')"
   ]
  },
  {
   "cell_type": "markdown",
   "metadata": {},
   "source": [
    "* There are a total of 16,715 entries.\n",
    "* Some data has incorrect variable types (for example, `user_score`).\n",
    "* Variables `critic_score`, `user_score`, and `rating` have more than 40% missing values, which cannot be ignored."
   ]
  },
  {
   "cell_type": "markdown",
   "metadata": {},
   "source": [
    "<a id=\"step1\"></a>\n",
    "**Conclusion**"
   ]
  },
  {
   "cell_type": "markdown",
   "metadata": {},
   "source": [
    "Each row of the table contains detailed information about the sales of computer games, their user and expert ratings, genres, and platforms.\n",
    "\n",
    "First, we need to prepare the data for analysis: handle the identified missing values, change data types, and convert variable names to lowercase.\n",
    "\n",
    "Then, we will proceed with the actual analysis."
   ]
  },
  {
   "cell_type": "markdown",
   "metadata": {},
   "source": [
    "## Data Preparation for Analysis"
   ]
  },
  {
   "cell_type": "code",
   "execution_count": 5,
   "metadata": {},
   "outputs": [],
   "source": [
    "df.columns = df.columns.str.lower()"
   ]
  },
  {
   "cell_type": "markdown",
   "metadata": {},
   "source": [
    "### Handling Missing Values and Incorrect Types"
   ]
  },
  {
   "cell_type": "code",
   "execution_count": 6,
   "metadata": {},
   "outputs": [
    {
     "data": {
      "text/plain": [
       "array([76., nan, 82., 80., 89., 58., 87., 91., 61., 97., 95., 77., 88.,\n",
       "       83., 94., 93., 85., 86., 98., 96., 90., 84., 73., 74., 78., 92.,\n",
       "       71., 72., 68., 62., 49., 67., 81., 66., 56., 79., 70., 59., 64.,\n",
       "       75., 60., 63., 69., 50., 25., 42., 44., 55., 48., 57., 29., 47.,\n",
       "       65., 54., 20., 53., 37., 38., 33., 52., 30., 32., 43., 45., 51.,\n",
       "       40., 46., 39., 34., 35., 41., 36., 28., 31., 27., 26., 19., 23.,\n",
       "       24., 21., 17., 22., 13.])"
      ]
     },
     "execution_count": 6,
     "metadata": {},
     "output_type": "execute_result"
    }
   ],
   "source": [
    "df['critic_score'].unique()"
   ]
  },
  {
   "cell_type": "markdown",
   "metadata": {},
   "source": [
    "Let's replace the missing values (NA) with 0:"
   ]
  },
  {
   "cell_type": "code",
   "execution_count": 7,
   "metadata": {},
   "outputs": [],
   "source": [
    "df['critic_score'] = df['critic_score'].fillna(0)"
   ]
  },
  {
   "cell_type": "markdown",
   "metadata": {},
   "source": [
    "and let's check why `user_score` has the `object` data type:"
   ]
  },
  {
   "cell_type": "code",
   "execution_count": 8,
   "metadata": {},
   "outputs": [
    {
     "data": {
      "text/plain": [
       "array(['8', nan, '8.3', '8.5', '6.6', '8.4', '8.6', '7.7', '6.3', '7.4',\n",
       "       '8.2', '9', '7.9', '8.1', '8.7', '7.1', '3.4', '5.3', '4.8', '3.2',\n",
       "       '8.9', '6.4', '7.8', '7.5', '2.6', '7.2', '9.2', '7', '7.3', '4.3',\n",
       "       '7.6', '5.7', '5', '9.1', '6.5', 'tbd', '8.8', '6.9', '9.4', '6.8',\n",
       "       '6.1', '6.7', '5.4', '4', '4.9', '4.5', '9.3', '6.2', '4.2', '6',\n",
       "       '3.7', '4.1', '5.8', '5.6', '5.5', '4.4', '4.6', '5.9', '3.9',\n",
       "       '3.1', '2.9', '5.2', '3.3', '4.7', '5.1', '3.5', '2.5', '1.9', '3',\n",
       "       '2.7', '2.2', '2', '9.5', '2.1', '3.6', '2.8', '1.8', '3.8', '0',\n",
       "       '1.6', '9.6', '2.4', '1.7', '1.1', '0.3', '1.5', '0.7', '1.2',\n",
       "       '2.3', '0.5', '1.3', '0.2', '0.6', '1.4', '0.9', '1', '9.7'],\n",
       "      dtype=object)"
      ]
     },
     "execution_count": 8,
     "metadata": {},
     "output_type": "execute_result"
    }
   ],
   "source": [
    "df['user_score'].unique()"
   ]
  },
  {
   "cell_type": "markdown",
   "metadata": {},
   "source": [
    "The parameter `tbd` stands for *to be determined*, which means that ratings are not displayed because there are less than four (4) reviews in the platform's database.\n",
    "\n",
    "Reference: [https://www.metacritic.com/faq](https://www.metacritic.com/faq)"
   ]
  },
  {
   "cell_type": "markdown",
   "metadata": {},
   "source": [
    "> * Since the variable `user_score` is needed for further calculations, only a numerical replacement will be suitable.\n",
    "> * It could have been possible to substitute `critic_score` data, but those are measured on a 100-point scale.\n",
    "> * Let's try replacing `na` with 0 and `tbd` with -1, and also change the data type from `object` to `float`."
   ]
  },
  {
   "cell_type": "markdown",
   "metadata": {},
   "source": [
    "Before replacing `na` with 0, let's check how many games in our database have `user_score` = 0."
   ]
  },
  {
   "cell_type": "code",
   "execution_count": 9,
   "metadata": {},
   "outputs": [
    {
     "data": {
      "text/html": [
       "<div>\n",
       "<style scoped>\n",
       "    .dataframe tbody tr th:only-of-type {\n",
       "        vertical-align: middle;\n",
       "    }\n",
       "\n",
       "    .dataframe tbody tr th {\n",
       "        vertical-align: top;\n",
       "    }\n",
       "\n",
       "    .dataframe thead th {\n",
       "        text-align: right;\n",
       "    }\n",
       "</style>\n",
       "<table border=\"1\" class=\"dataframe\">\n",
       "  <thead>\n",
       "    <tr style=\"text-align: right;\">\n",
       "      <th></th>\n",
       "      <th>name</th>\n",
       "      <th>platform</th>\n",
       "      <th>year_of_release</th>\n",
       "      <th>genre</th>\n",
       "      <th>na_sales</th>\n",
       "      <th>eu_sales</th>\n",
       "      <th>jp_sales</th>\n",
       "      <th>other_sales</th>\n",
       "      <th>critic_score</th>\n",
       "      <th>user_score</th>\n",
       "      <th>rating</th>\n",
       "    </tr>\n",
       "  </thead>\n",
       "  <tbody>\n",
       "    <tr>\n",
       "      <th>2835</th>\n",
       "      <td>My Little Pony: Pinkie Pie's Party</td>\n",
       "      <td>DS</td>\n",
       "      <td>2008.0</td>\n",
       "      <td>Adventure</td>\n",
       "      <td>0.66</td>\n",
       "      <td>0.0</td>\n",
       "      <td>0.0</td>\n",
       "      <td>0.06</td>\n",
       "      <td>0.0</td>\n",
       "      <td>0</td>\n",
       "      <td>E</td>\n",
       "    </tr>\n",
       "  </tbody>\n",
       "</table>\n",
       "</div>"
      ],
      "text/plain": [
       "                                    name platform  year_of_release      genre  \\\n",
       "2835  My Little Pony: Pinkie Pie's Party       DS           2008.0  Adventure   \n",
       "\n",
       "      na_sales  eu_sales  jp_sales  other_sales  critic_score user_score  \\\n",
       "2835      0.66       0.0       0.0         0.06           0.0          0   \n",
       "\n",
       "     rating  \n",
       "2835      E  "
      ]
     },
     "execution_count": 9,
     "metadata": {},
     "output_type": "execute_result"
    }
   ],
   "source": [
    "df.loc[df['user_score'] == '0'] #only 1 game"
   ]
  },
  {
   "cell_type": "code",
   "execution_count": 10,
   "metadata": {},
   "outputs": [],
   "source": [
    "df.loc[df['user_score'] == 'tbd', 'user_score'] = -1"
   ]
  },
  {
   "cell_type": "code",
   "execution_count": 11,
   "metadata": {},
   "outputs": [],
   "source": [
    "df['user_score'] = df['user_score'].fillna(0).astype(float)"
   ]
  },
  {
   "cell_type": "markdown",
   "metadata": {},
   "source": [
    "The `rating` category also has 40% of missing values."
   ]
  },
  {
   "cell_type": "code",
   "execution_count": 12,
   "metadata": {},
   "outputs": [
    {
     "data": {
      "text/plain": [
       "array(['E', nan, 'M', 'T', 'E10+', 'K-A', 'AO', 'EC', 'RP'], dtype=object)"
      ]
     },
     "execution_count": 12,
     "metadata": {},
     "output_type": "execute_result"
    }
   ],
   "source": [
    "df['rating'].unique()"
   ]
  },
  {
   "cell_type": "markdown",
   "metadata": {},
   "source": [
    "* \"Rating Pending\" (RP) - \"Rating Pending\"\n",
    "* \"EC\" (\"Early childhood\") - \"Early childhood\"\n",
    "* \"E\" (\"Everyone\") - \"Everyone\" **or** \"K-A\" (\"Kids to Adults\")\n",
    "* \"E10+\" (\"Everyone 10 and older\") - \"Everyone 10 and older\"\n",
    "* \"T\" (\"Teen\") - \"Teen\" (13+)\n",
    "* \"M\" (\"Mature\") - \"Mature\" (17+)\n",
    "* \"AO\" (\"Adults Only 18+\") - \"Adults Only 18+\"\n",
    "* \"RP\" (\"Rating Pending\") - \"Rating Pending\"\n",
    "\n",
    "Reference: [https://en.wikipedia.org/wiki/Entertainment_Software_Rating_Board](https://en.wikipedia.org/wiki/Entertainment_Software_Rating_Board)"
   ]
  },
  {
   "cell_type": "markdown",
   "metadata": {},
   "source": [
    "Let's merge the same categories and replace `na` with `Unknown`:"
   ]
  },
  {
   "cell_type": "code",
   "execution_count": 13,
   "metadata": {},
   "outputs": [],
   "source": [
    "df.loc[df['rating'] == 'K-A', 'rating'] = 'E'"
   ]
  },
  {
   "cell_type": "code",
   "execution_count": 14,
   "metadata": {},
   "outputs": [],
   "source": [
    "df['rating'] = df['rating'].fillna('Unknown')"
   ]
  },
  {
   "cell_type": "markdown",
   "metadata": {},
   "source": [
    "Year of release - `year_of_release` has an incorrect type, but about 1% of missing values prevent us from changing it; \n",
    "\n",
    "Since the number of missing values is very small, let's remove them using the `dropna()` method and change the type from `float64` to `int`"
   ]
  },
  {
   "cell_type": "code",
   "execution_count": 15,
   "metadata": {},
   "outputs": [],
   "source": [
    "df.dropna(subset = ['year_of_release'], inplace = True)\n",
    "df['year_of_release'] = df['year_of_release'].astype(int)"
   ]
  },
  {
   "cell_type": "markdown",
   "metadata": {},
   "source": [
    "Even though `name` and `genre` also have very few missing values, let's replace them with `Unknown`:"
   ]
  },
  {
   "cell_type": "code",
   "execution_count": 16,
   "metadata": {},
   "outputs": [],
   "source": [
    "df['name'] = df['name'].fillna('Unknown')"
   ]
  },
  {
   "cell_type": "code",
   "execution_count": 17,
   "metadata": {},
   "outputs": [],
   "source": [
    "df['genre'] = df['genre'].fillna('Unknown')"
   ]
  },
  {
   "cell_type": "code",
   "execution_count": 18,
   "metadata": {},
   "outputs": [
    {
     "data": {
      "text/html": [
       "<style  type=\"text/css\" >\n",
       "#T_9db52_row0_col0,#T_9db52_row1_col0,#T_9db52_row2_col0,#T_9db52_row3_col0,#T_9db52_row4_col0,#T_9db52_row5_col0,#T_9db52_row6_col0,#T_9db52_row7_col0,#T_9db52_row8_col0,#T_9db52_row9_col0,#T_9db52_row10_col0{\n",
       "            background-color:  #3b4cc0;\n",
       "            color:  #f1f1f1;\n",
       "        }</style><table id=\"T_9db52_\" ><thead>    <tr>        <th class=\"blank level0\" ></th>        <th class=\"col_heading level0 col0\" >0</th>    </tr></thead><tbody>\n",
       "                <tr>\n",
       "                        <th id=\"T_9db52_level0_row0\" class=\"row_heading level0 row0\" >name</th>\n",
       "                        <td id=\"T_9db52_row0_col0\" class=\"data row0 col0\" >0.000000</td>\n",
       "            </tr>\n",
       "            <tr>\n",
       "                        <th id=\"T_9db52_level0_row1\" class=\"row_heading level0 row1\" >platform</th>\n",
       "                        <td id=\"T_9db52_row1_col0\" class=\"data row1 col0\" >0.000000</td>\n",
       "            </tr>\n",
       "            <tr>\n",
       "                        <th id=\"T_9db52_level0_row2\" class=\"row_heading level0 row2\" >year_of_release</th>\n",
       "                        <td id=\"T_9db52_row2_col0\" class=\"data row2 col0\" >0.000000</td>\n",
       "            </tr>\n",
       "            <tr>\n",
       "                        <th id=\"T_9db52_level0_row3\" class=\"row_heading level0 row3\" >genre</th>\n",
       "                        <td id=\"T_9db52_row3_col0\" class=\"data row3 col0\" >0.000000</td>\n",
       "            </tr>\n",
       "            <tr>\n",
       "                        <th id=\"T_9db52_level0_row4\" class=\"row_heading level0 row4\" >na_sales</th>\n",
       "                        <td id=\"T_9db52_row4_col0\" class=\"data row4 col0\" >0.000000</td>\n",
       "            </tr>\n",
       "            <tr>\n",
       "                        <th id=\"T_9db52_level0_row5\" class=\"row_heading level0 row5\" >eu_sales</th>\n",
       "                        <td id=\"T_9db52_row5_col0\" class=\"data row5 col0\" >0.000000</td>\n",
       "            </tr>\n",
       "            <tr>\n",
       "                        <th id=\"T_9db52_level0_row6\" class=\"row_heading level0 row6\" >jp_sales</th>\n",
       "                        <td id=\"T_9db52_row6_col0\" class=\"data row6 col0\" >0.000000</td>\n",
       "            </tr>\n",
       "            <tr>\n",
       "                        <th id=\"T_9db52_level0_row7\" class=\"row_heading level0 row7\" >other_sales</th>\n",
       "                        <td id=\"T_9db52_row7_col0\" class=\"data row7 col0\" >0.000000</td>\n",
       "            </tr>\n",
       "            <tr>\n",
       "                        <th id=\"T_9db52_level0_row8\" class=\"row_heading level0 row8\" >critic_score</th>\n",
       "                        <td id=\"T_9db52_row8_col0\" class=\"data row8 col0\" >0.000000</td>\n",
       "            </tr>\n",
       "            <tr>\n",
       "                        <th id=\"T_9db52_level0_row9\" class=\"row_heading level0 row9\" >user_score</th>\n",
       "                        <td id=\"T_9db52_row9_col0\" class=\"data row9 col0\" >0.000000</td>\n",
       "            </tr>\n",
       "            <tr>\n",
       "                        <th id=\"T_9db52_level0_row10\" class=\"row_heading level0 row10\" >rating</th>\n",
       "                        <td id=\"T_9db52_row10_col0\" class=\"data row10 col0\" >0.000000</td>\n",
       "            </tr>\n",
       "    </tbody></table>"
      ],
      "text/plain": [
       "<pandas.io.formats.style.Styler at 0x7f741ae7ed90>"
      ]
     },
     "execution_count": 18,
     "metadata": {},
     "output_type": "execute_result"
    }
   ],
   "source": [
    "#final check\n",
    "pd.DataFrame(round((df.isna().mean()*100),2)).style.background_gradient('coolwarm')"
   ]
  },
  {
   "cell_type": "markdown",
   "metadata": {},
   "source": [
    "### Checking for duplicates"
   ]
  },
  {
   "cell_type": "markdown",
   "metadata": {},
   "source": [
    "Let's check other unique values to avoid mistakes:"
   ]
  },
  {
   "cell_type": "code",
   "execution_count": 19,
   "metadata": {},
   "outputs": [
    {
     "data": {
      "text/plain": [
       "array(['Wii', 'NES', 'GB', 'DS', 'X360', 'PS3', 'PS2', 'SNES', 'GBA',\n",
       "       'PS4', '3DS', 'N64', 'PS', 'XB', 'PC', '2600', 'PSP', 'XOne',\n",
       "       'WiiU', 'GC', 'GEN', 'DC', 'PSV', 'SAT', 'SCD', 'WS', 'NG', 'TG16',\n",
       "       '3DO', 'GG', 'PCFX'], dtype=object)"
      ]
     },
     "execution_count": 19,
     "metadata": {},
     "output_type": "execute_result"
    }
   ],
   "source": [
    "df['platform'].unique()"
   ]
  },
  {
   "cell_type": "code",
   "execution_count": 20,
   "metadata": {},
   "outputs": [
    {
     "data": {
      "text/plain": [
       "array(['Sports', 'Platform', 'Racing', 'Role-Playing', 'Puzzle', 'Misc',\n",
       "       'Shooter', 'Simulation', 'Action', 'Fighting', 'Adventure',\n",
       "       'Strategy', 'Unknown'], dtype=object)"
      ]
     },
     "execution_count": 20,
     "metadata": {},
     "output_type": "execute_result"
    }
   ],
   "source": [
    "df['genre'].unique()"
   ]
  },
  {
   "cell_type": "markdown",
   "metadata": {},
   "source": [
    "Let's check the data for duplicate rows in the dataframe:"
   ]
  },
  {
   "cell_type": "code",
   "execution_count": 21,
   "metadata": {},
   "outputs": [
    {
     "data": {
      "text/plain": [
       "0"
      ]
     },
     "execution_count": 21,
     "metadata": {},
     "output_type": "execute_result"
    }
   ],
   "source": [
    "df.duplicated().sum()"
   ]
  },
  {
   "cell_type": "markdown",
   "metadata": {},
   "source": [
    "Add a new variable `total_sales` with the total sales in all regions:"
   ]
  },
  {
   "cell_type": "code",
   "execution_count": 22,
   "metadata": {},
   "outputs": [],
   "source": [
    "df['total_sales'] = df['na_sales'] + df['eu_sales'] + df['jp_sales'] + df['other_sales']"
   ]
  },
  {
   "cell_type": "code",
   "execution_count": 23,
   "metadata": {},
   "outputs": [
    {
     "data": {
      "text/html": [
       "<div>\n",
       "<style scoped>\n",
       "    .dataframe tbody tr th:only-of-type {\n",
       "        vertical-align: middle;\n",
       "    }\n",
       "\n",
       "    .dataframe tbody tr th {\n",
       "        vertical-align: top;\n",
       "    }\n",
       "\n",
       "    .dataframe thead th {\n",
       "        text-align: right;\n",
       "    }\n",
       "</style>\n",
       "<table border=\"1\" class=\"dataframe\">\n",
       "  <thead>\n",
       "    <tr style=\"text-align: right;\">\n",
       "      <th></th>\n",
       "      <th>name</th>\n",
       "      <th>platform</th>\n",
       "      <th>year_of_release</th>\n",
       "      <th>genre</th>\n",
       "      <th>na_sales</th>\n",
       "      <th>eu_sales</th>\n",
       "      <th>jp_sales</th>\n",
       "      <th>other_sales</th>\n",
       "      <th>critic_score</th>\n",
       "      <th>user_score</th>\n",
       "      <th>rating</th>\n",
       "      <th>total_sales</th>\n",
       "    </tr>\n",
       "  </thead>\n",
       "  <tbody>\n",
       "    <tr>\n",
       "      <th>0</th>\n",
       "      <td>Wii Sports</td>\n",
       "      <td>Wii</td>\n",
       "      <td>2006</td>\n",
       "      <td>Sports</td>\n",
       "      <td>41.36</td>\n",
       "      <td>28.96</td>\n",
       "      <td>3.77</td>\n",
       "      <td>8.45</td>\n",
       "      <td>76.0</td>\n",
       "      <td>8.0</td>\n",
       "      <td>E</td>\n",
       "      <td>82.54</td>\n",
       "    </tr>\n",
       "    <tr>\n",
       "      <th>1</th>\n",
       "      <td>Super Mario Bros.</td>\n",
       "      <td>NES</td>\n",
       "      <td>1985</td>\n",
       "      <td>Platform</td>\n",
       "      <td>29.08</td>\n",
       "      <td>3.58</td>\n",
       "      <td>6.81</td>\n",
       "      <td>0.77</td>\n",
       "      <td>0.0</td>\n",
       "      <td>0.0</td>\n",
       "      <td>Unknown</td>\n",
       "      <td>40.24</td>\n",
       "    </tr>\n",
       "    <tr>\n",
       "      <th>2</th>\n",
       "      <td>Mario Kart Wii</td>\n",
       "      <td>Wii</td>\n",
       "      <td>2008</td>\n",
       "      <td>Racing</td>\n",
       "      <td>15.68</td>\n",
       "      <td>12.76</td>\n",
       "      <td>3.79</td>\n",
       "      <td>3.29</td>\n",
       "      <td>82.0</td>\n",
       "      <td>8.3</td>\n",
       "      <td>E</td>\n",
       "      <td>35.52</td>\n",
       "    </tr>\n",
       "    <tr>\n",
       "      <th>3</th>\n",
       "      <td>Wii Sports Resort</td>\n",
       "      <td>Wii</td>\n",
       "      <td>2009</td>\n",
       "      <td>Sports</td>\n",
       "      <td>15.61</td>\n",
       "      <td>10.93</td>\n",
       "      <td>3.28</td>\n",
       "      <td>2.95</td>\n",
       "      <td>80.0</td>\n",
       "      <td>8.0</td>\n",
       "      <td>E</td>\n",
       "      <td>32.77</td>\n",
       "    </tr>\n",
       "    <tr>\n",
       "      <th>4</th>\n",
       "      <td>Pokemon Red/Pokemon Blue</td>\n",
       "      <td>GB</td>\n",
       "      <td>1996</td>\n",
       "      <td>Role-Playing</td>\n",
       "      <td>11.27</td>\n",
       "      <td>8.89</td>\n",
       "      <td>10.22</td>\n",
       "      <td>1.00</td>\n",
       "      <td>0.0</td>\n",
       "      <td>0.0</td>\n",
       "      <td>Unknown</td>\n",
       "      <td>31.38</td>\n",
       "    </tr>\n",
       "  </tbody>\n",
       "</table>\n",
       "</div>"
      ],
      "text/plain": [
       "                       name platform  year_of_release         genre  na_sales  \\\n",
       "0                Wii Sports      Wii             2006        Sports     41.36   \n",
       "1         Super Mario Bros.      NES             1985      Platform     29.08   \n",
       "2            Mario Kart Wii      Wii             2008        Racing     15.68   \n",
       "3         Wii Sports Resort      Wii             2009        Sports     15.61   \n",
       "4  Pokemon Red/Pokemon Blue       GB             1996  Role-Playing     11.27   \n",
       "\n",
       "   eu_sales  jp_sales  other_sales  critic_score  user_score   rating  \\\n",
       "0     28.96      3.77         8.45          76.0         8.0        E   \n",
       "1      3.58      6.81         0.77           0.0         0.0  Unknown   \n",
       "2     12.76      3.79         3.29          82.0         8.3        E   \n",
       "3     10.93      3.28         2.95          80.0         8.0        E   \n",
       "4      8.89     10.22         1.00           0.0         0.0  Unknown   \n",
       "\n",
       "   total_sales  \n",
       "0        82.54  \n",
       "1        40.24  \n",
       "2        35.52  \n",
       "3        32.77  \n",
       "4        31.38  "
      ]
     },
     "execution_count": 23,
     "metadata": {},
     "output_type": "execute_result"
    }
   ],
   "source": [
    "df.head(5)"
   ]
  },
  {
   "cell_type": "markdown",
   "metadata": {},
   "source": [
    "<a id=\"step2\"></a>\n",
    "**Conclusion**"
   ]
  },
  {
   "cell_type": "markdown",
   "metadata": {},
   "source": [
    "Several key variables for further analysis - `user_score`, `critic_score`, and `rating` - had over 40% missing values, which we replaced with `0` and `Unknown` accordingly. Furthermore, we replaced the `tbd` category in the rating with `-1`. In the `year_of_release` category, we removed less than 2% of missing values.\n",
    "\n",
    "We also changed the data type of two variables - `user_score` and `year_of_release` - to `float` and `int`, respectively, to facilitate future calculations."
   ]
  },
  {
   "cell_type": "markdown",
   "metadata": {},
   "source": [
    "## Data analysis"
   ]
  },
  {
   "cell_type": "markdown",
   "metadata": {},
   "source": [
    "### Selection of Relevant Data"
   ]
  },
  {
   "cell_type": "markdown",
   "metadata": {},
   "source": [
    "At this stage, we need to select key values to describe the actual forecast for the year 2017.\n",
    "\n",
    "1. Let's see how many games were released in different years overall:"
   ]
  },
  {
   "cell_type": "code",
   "execution_count": 24,
   "metadata": {},
   "outputs": [
    {
     "data": {
      "text/html": [
       "<div>\n",
       "<style scoped>\n",
       "    .dataframe tbody tr th:only-of-type {\n",
       "        vertical-align: middle;\n",
       "    }\n",
       "\n",
       "    .dataframe tbody tr th {\n",
       "        vertical-align: top;\n",
       "    }\n",
       "\n",
       "    .dataframe thead th {\n",
       "        text-align: right;\n",
       "    }\n",
       "</style>\n",
       "<table border=\"1\" class=\"dataframe\">\n",
       "  <thead>\n",
       "    <tr style=\"text-align: right;\">\n",
       "      <th></th>\n",
       "      <th>numb_of_games</th>\n",
       "    </tr>\n",
       "    <tr>\n",
       "      <th>year_of_release</th>\n",
       "      <th></th>\n",
       "    </tr>\n",
       "  </thead>\n",
       "  <tbody>\n",
       "    <tr>\n",
       "      <th>1980</th>\n",
       "      <td>9</td>\n",
       "    </tr>\n",
       "    <tr>\n",
       "      <th>1981</th>\n",
       "      <td>46</td>\n",
       "    </tr>\n",
       "    <tr>\n",
       "      <th>1982</th>\n",
       "      <td>36</td>\n",
       "    </tr>\n",
       "    <tr>\n",
       "      <th>1983</th>\n",
       "      <td>17</td>\n",
       "    </tr>\n",
       "    <tr>\n",
       "      <th>1984</th>\n",
       "      <td>14</td>\n",
       "    </tr>\n",
       "    <tr>\n",
       "      <th>1985</th>\n",
       "      <td>14</td>\n",
       "    </tr>\n",
       "    <tr>\n",
       "      <th>1986</th>\n",
       "      <td>21</td>\n",
       "    </tr>\n",
       "    <tr>\n",
       "      <th>1987</th>\n",
       "      <td>16</td>\n",
       "    </tr>\n",
       "    <tr>\n",
       "      <th>1988</th>\n",
       "      <td>15</td>\n",
       "    </tr>\n",
       "    <tr>\n",
       "      <th>1989</th>\n",
       "      <td>17</td>\n",
       "    </tr>\n",
       "    <tr>\n",
       "      <th>1990</th>\n",
       "      <td>16</td>\n",
       "    </tr>\n",
       "    <tr>\n",
       "      <th>1991</th>\n",
       "      <td>41</td>\n",
       "    </tr>\n",
       "    <tr>\n",
       "      <th>1992</th>\n",
       "      <td>43</td>\n",
       "    </tr>\n",
       "    <tr>\n",
       "      <th>1993</th>\n",
       "      <td>62</td>\n",
       "    </tr>\n",
       "    <tr>\n",
       "      <th>1994</th>\n",
       "      <td>121</td>\n",
       "    </tr>\n",
       "    <tr>\n",
       "      <th>1995</th>\n",
       "      <td>219</td>\n",
       "    </tr>\n",
       "    <tr>\n",
       "      <th>1996</th>\n",
       "      <td>263</td>\n",
       "    </tr>\n",
       "    <tr>\n",
       "      <th>1997</th>\n",
       "      <td>289</td>\n",
       "    </tr>\n",
       "    <tr>\n",
       "      <th>1998</th>\n",
       "      <td>379</td>\n",
       "    </tr>\n",
       "    <tr>\n",
       "      <th>1999</th>\n",
       "      <td>338</td>\n",
       "    </tr>\n",
       "    <tr>\n",
       "      <th>2000</th>\n",
       "      <td>350</td>\n",
       "    </tr>\n",
       "    <tr>\n",
       "      <th>2001</th>\n",
       "      <td>482</td>\n",
       "    </tr>\n",
       "    <tr>\n",
       "      <th>2002</th>\n",
       "      <td>829</td>\n",
       "    </tr>\n",
       "    <tr>\n",
       "      <th>2003</th>\n",
       "      <td>775</td>\n",
       "    </tr>\n",
       "    <tr>\n",
       "      <th>2004</th>\n",
       "      <td>762</td>\n",
       "    </tr>\n",
       "    <tr>\n",
       "      <th>2005</th>\n",
       "      <td>939</td>\n",
       "    </tr>\n",
       "    <tr>\n",
       "      <th>2006</th>\n",
       "      <td>1006</td>\n",
       "    </tr>\n",
       "    <tr>\n",
       "      <th>2007</th>\n",
       "      <td>1197</td>\n",
       "    </tr>\n",
       "    <tr>\n",
       "      <th>2008</th>\n",
       "      <td>1427</td>\n",
       "    </tr>\n",
       "    <tr>\n",
       "      <th>2009</th>\n",
       "      <td>1426</td>\n",
       "    </tr>\n",
       "    <tr>\n",
       "      <th>2010</th>\n",
       "      <td>1255</td>\n",
       "    </tr>\n",
       "    <tr>\n",
       "      <th>2011</th>\n",
       "      <td>1136</td>\n",
       "    </tr>\n",
       "    <tr>\n",
       "      <th>2012</th>\n",
       "      <td>653</td>\n",
       "    </tr>\n",
       "    <tr>\n",
       "      <th>2013</th>\n",
       "      <td>544</td>\n",
       "    </tr>\n",
       "    <tr>\n",
       "      <th>2014</th>\n",
       "      <td>581</td>\n",
       "    </tr>\n",
       "    <tr>\n",
       "      <th>2015</th>\n",
       "      <td>606</td>\n",
       "    </tr>\n",
       "    <tr>\n",
       "      <th>2016</th>\n",
       "      <td>502</td>\n",
       "    </tr>\n",
       "  </tbody>\n",
       "</table>\n",
       "</div>"
      ],
      "text/plain": [
       "                 numb_of_games\n",
       "year_of_release               \n",
       "1980                         9\n",
       "1981                        46\n",
       "1982                        36\n",
       "1983                        17\n",
       "1984                        14\n",
       "1985                        14\n",
       "1986                        21\n",
       "1987                        16\n",
       "1988                        15\n",
       "1989                        17\n",
       "1990                        16\n",
       "1991                        41\n",
       "1992                        43\n",
       "1993                        62\n",
       "1994                       121\n",
       "1995                       219\n",
       "1996                       263\n",
       "1997                       289\n",
       "1998                       379\n",
       "1999                       338\n",
       "2000                       350\n",
       "2001                       482\n",
       "2002                       829\n",
       "2003                       775\n",
       "2004                       762\n",
       "2005                       939\n",
       "2006                      1006\n",
       "2007                      1197\n",
       "2008                      1427\n",
       "2009                      1426\n",
       "2010                      1255\n",
       "2011                      1136\n",
       "2012                       653\n",
       "2013                       544\n",
       "2014                       581\n",
       "2015                       606\n",
       "2016                       502"
      ]
     },
     "execution_count": 24,
     "metadata": {},
     "output_type": "execute_result"
    }
   ],
   "source": [
    "numb_games = df.pivot_table(index='year_of_release', values =[ 'name'],\n",
    "                               aggfunc={'name': 'count'})\n",
    "numb_games.columns = ['numb_of_games']\n",
    "numb_games"
   ]
  },
  {
   "cell_type": "markdown",
   "metadata": {},
   "source": [
    "\n",
    "> * From 2006 to 2011, there is a boom: a large number of computer games are released, leading to sales growth.\n",
    "> * Since 2012, we observe a sharp decline, which continues until 2014.\n",
    "\n",
    "**Are the data from all periods important?**\n",
    "\n",
    "* From the table above, it is clear that considering the 20th century is not necessary, as the gaming culture was just gaining momentum. Moreover, for an up-to-date forecast, it's probably not worth considering games released more than 16 years ago.\n",
    "* Let's try to filter the data from the year 2005, capturing both the peak and decline of computer games."
   ]
  },
  {
   "cell_type": "code",
   "execution_count": 25,
   "metadata": {},
   "outputs": [],
   "source": [
    "#filter\n",
    "df_new = df[(df['year_of_release'] > 2004)]"
   ]
  },
  {
   "cell_type": "markdown",
   "metadata": {},
   "source": [
    "2. Within the filtered period, let's look at how the data is distributed based on the *number of copies sold across all regions*:"
   ]
  },
  {
   "cell_type": "code",
   "execution_count": 26,
   "metadata": {},
   "outputs": [
    {
     "data": {
      "text/plain": [
       "<matplotlib.legend.Legend at 0x7f741ad821f0>"
      ]
     },
     "execution_count": 26,
     "metadata": {},
     "output_type": "execute_result"
    },
    {
     "data": {
      "image/png": "[encoded data removed]",
      "text/plain": [
       "<Figure size 432x288 with 1 Axes>"
      ]
     },
     "metadata": {
      "needs_background": "light"
     },
     "output_type": "display_data"
    }
   ],
   "source": [
    "total_sales_by_platforms = pd.pivot_table(df_new, values='total_sales', index='year_of_release', columns='platform',\n",
    "                    aggfunc=np.sum)\n",
    "ax = total_sales_by_platforms.plot(xticks=total_sales_by_platforms.index)\n",
    "ylab = ax.set_ylabel('total_sales')\n",
    "plt.legend(bbox_to_anchor=(1.05, 1), loc=2, borderaxespad=0.)\n",
    "ax.set_title(\"Number of Copies Sold (MM) Worldwide Over 10 Years\")\n",
    "ax.set_ylabel(\"Global Sales (MM)\")\n",
    "ax.set_xlabel(\"Year of Game Release\")\n",
    "plt.legend(title = 'Platforms', bbox_to_anchor=(1.05, 1), loc=2, borderaxespad=0.)"
   ]
  },
  {
   "cell_type": "markdown",
   "metadata": {},
   "source": [
    "> * The graph shows that by the year 2013, 5 entire platforms cease to release games: DS, PS2, GBA, XB, and GC.\n",
    "> * However, in the same year 2013, 2 new platforms appear, later leading in the number of copies sold - XOne and PS4.\n",
    "> * It's also possible to identify the top 5 platforms that are leaders in the number of copies sold by 2016: PS4, XOne, 3DS, PS3, and WiiU."
   ]
  },
  {
   "cell_type": "markdown",
   "metadata": {},
   "source": [
    "3. Let's also check the median number of years for which games are released on each platform *over the entire period*. After that, we will filter out the platforms that *released games in 2016*."
   ]
  },
  {
   "cell_type": "code",
   "execution_count": 27,
   "metadata": {},
   "outputs": [
    {
     "data": {
      "text/html": [
       "<div>\n",
       "<style scoped>\n",
       "    .dataframe tbody tr th:only-of-type {\n",
       "        vertical-align: middle;\n",
       "    }\n",
       "\n",
       "    .dataframe tbody tr th {\n",
       "        vertical-align: top;\n",
       "    }\n",
       "\n",
       "    .dataframe thead th {\n",
       "        text-align: right;\n",
       "    }\n",
       "</style>\n",
       "<table border=\"1\" class=\"dataframe\">\n",
       "  <thead>\n",
       "    <tr style=\"text-align: right;\">\n",
       "      <th></th>\n",
       "      <th>max_year</th>\n",
       "      <th>min_year</th>\n",
       "      <th>life_period</th>\n",
       "    </tr>\n",
       "    <tr>\n",
       "      <th>platform</th>\n",
       "      <th></th>\n",
       "      <th></th>\n",
       "      <th></th>\n",
       "    </tr>\n",
       "  </thead>\n",
       "  <tbody>\n",
       "    <tr>\n",
       "      <th>XOne</th>\n",
       "      <td>2016</td>\n",
       "      <td>2013</td>\n",
       "      <td>3</td>\n",
       "    </tr>\n",
       "    <tr>\n",
       "      <th>3DS</th>\n",
       "      <td>2016</td>\n",
       "      <td>2011</td>\n",
       "      <td>5</td>\n",
       "    </tr>\n",
       "    <tr>\n",
       "      <th>X360</th>\n",
       "      <td>2016</td>\n",
       "      <td>2005</td>\n",
       "      <td>11</td>\n",
       "    </tr>\n",
       "    <tr>\n",
       "      <th>WiiU</th>\n",
       "      <td>2016</td>\n",
       "      <td>2012</td>\n",
       "      <td>4</td>\n",
       "    </tr>\n",
       "    <tr>\n",
       "      <th>Wii</th>\n",
       "      <td>2016</td>\n",
       "      <td>2006</td>\n",
       "      <td>10</td>\n",
       "    </tr>\n",
       "    <tr>\n",
       "      <th>PSV</th>\n",
       "      <td>2016</td>\n",
       "      <td>2011</td>\n",
       "      <td>5</td>\n",
       "    </tr>\n",
       "    <tr>\n",
       "      <th>PC</th>\n",
       "      <td>2016</td>\n",
       "      <td>1985</td>\n",
       "      <td>31</td>\n",
       "    </tr>\n",
       "    <tr>\n",
       "      <th>PS4</th>\n",
       "      <td>2016</td>\n",
       "      <td>2013</td>\n",
       "      <td>3</td>\n",
       "    </tr>\n",
       "    <tr>\n",
       "      <th>PS3</th>\n",
       "      <td>2016</td>\n",
       "      <td>2006</td>\n",
       "      <td>10</td>\n",
       "    </tr>\n",
       "    <tr>\n",
       "      <th>PSP</th>\n",
       "      <td>2015</td>\n",
       "      <td>2004</td>\n",
       "      <td>11</td>\n",
       "    </tr>\n",
       "    <tr>\n",
       "      <th>DS</th>\n",
       "      <td>2013</td>\n",
       "      <td>1985</td>\n",
       "      <td>28</td>\n",
       "    </tr>\n",
       "    <tr>\n",
       "      <th>PS2</th>\n",
       "      <td>2011</td>\n",
       "      <td>2000</td>\n",
       "      <td>11</td>\n",
       "    </tr>\n",
       "    <tr>\n",
       "      <th>DC</th>\n",
       "      <td>2008</td>\n",
       "      <td>1998</td>\n",
       "      <td>10</td>\n",
       "    </tr>\n",
       "    <tr>\n",
       "      <th>XB</th>\n",
       "      <td>2008</td>\n",
       "      <td>2000</td>\n",
       "      <td>8</td>\n",
       "    </tr>\n",
       "    <tr>\n",
       "      <th>GBA</th>\n",
       "      <td>2007</td>\n",
       "      <td>2000</td>\n",
       "      <td>7</td>\n",
       "    </tr>\n",
       "    <tr>\n",
       "      <th>GC</th>\n",
       "      <td>2007</td>\n",
       "      <td>2001</td>\n",
       "      <td>6</td>\n",
       "    </tr>\n",
       "    <tr>\n",
       "      <th>PS</th>\n",
       "      <td>2003</td>\n",
       "      <td>1994</td>\n",
       "      <td>9</td>\n",
       "    </tr>\n",
       "    <tr>\n",
       "      <th>N64</th>\n",
       "      <td>2002</td>\n",
       "      <td>1996</td>\n",
       "      <td>6</td>\n",
       "    </tr>\n",
       "    <tr>\n",
       "      <th>WS</th>\n",
       "      <td>2001</td>\n",
       "      <td>1999</td>\n",
       "      <td>2</td>\n",
       "    </tr>\n",
       "    <tr>\n",
       "      <th>GB</th>\n",
       "      <td>2001</td>\n",
       "      <td>1988</td>\n",
       "      <td>13</td>\n",
       "    </tr>\n",
       "    <tr>\n",
       "      <th>SAT</th>\n",
       "      <td>1999</td>\n",
       "      <td>1994</td>\n",
       "      <td>5</td>\n",
       "    </tr>\n",
       "    <tr>\n",
       "      <th>SNES</th>\n",
       "      <td>1999</td>\n",
       "      <td>1990</td>\n",
       "      <td>9</td>\n",
       "    </tr>\n",
       "    <tr>\n",
       "      <th>PCFX</th>\n",
       "      <td>1996</td>\n",
       "      <td>1996</td>\n",
       "      <td>0</td>\n",
       "    </tr>\n",
       "    <tr>\n",
       "      <th>NG</th>\n",
       "      <td>1996</td>\n",
       "      <td>1993</td>\n",
       "      <td>3</td>\n",
       "    </tr>\n",
       "    <tr>\n",
       "      <th>3DO</th>\n",
       "      <td>1995</td>\n",
       "      <td>1994</td>\n",
       "      <td>1</td>\n",
       "    </tr>\n",
       "    <tr>\n",
       "      <th>TG16</th>\n",
       "      <td>1995</td>\n",
       "      <td>1995</td>\n",
       "      <td>0</td>\n",
       "    </tr>\n",
       "    <tr>\n",
       "      <th>NES</th>\n",
       "      <td>1994</td>\n",
       "      <td>1983</td>\n",
       "      <td>11</td>\n",
       "    </tr>\n",
       "    <tr>\n",
       "      <th>SCD</th>\n",
       "      <td>1994</td>\n",
       "      <td>1993</td>\n",
       "      <td>1</td>\n",
       "    </tr>\n",
       "    <tr>\n",
       "      <th>GEN</th>\n",
       "      <td>1994</td>\n",
       "      <td>1990</td>\n",
       "      <td>4</td>\n",
       "    </tr>\n",
       "    <tr>\n",
       "      <th>GG</th>\n",
       "      <td>1992</td>\n",
       "      <td>1992</td>\n",
       "      <td>0</td>\n",
       "    </tr>\n",
       "    <tr>\n",
       "      <th>2600</th>\n",
       "      <td>1989</td>\n",
       "      <td>1980</td>\n",
       "      <td>9</td>\n",
       "    </tr>\n",
       "  </tbody>\n",
       "</table>\n",
       "</div>"
      ],
      "text/plain": [
       "          max_year  min_year  life_period\n",
       "platform                                 \n",
       "XOne          2016      2013            3\n",
       "3DS           2016      2011            5\n",
       "X360          2016      2005           11\n",
       "WiiU          2016      2012            4\n",
       "Wii           2016      2006           10\n",
       "PSV           2016      2011            5\n",
       "PC            2016      1985           31\n",
       "PS4           2016      2013            3\n",
       "PS3           2016      2006           10\n",
       "PSP           2015      2004           11\n",
       "DS            2013      1985           28\n",
       "PS2           2011      2000           11\n",
       "DC            2008      1998           10\n",
       "XB            2008      2000            8\n",
       "GBA           2007      2000            7\n",
       "GC            2007      2001            6\n",
       "PS            2003      1994            9\n",
       "N64           2002      1996            6\n",
       "WS            2001      1999            2\n",
       "GB            2001      1988           13\n",
       "SAT           1999      1994            5\n",
       "SNES          1999      1990            9\n",
       "PCFX          1996      1996            0\n",
       "NG            1996      1993            3\n",
       "3DO           1995      1994            1\n",
       "TG16          1995      1995            0\n",
       "NES           1994      1983           11\n",
       "SCD           1994      1993            1\n",
       "GEN           1994      1990            4\n",
       "GG            1992      1992            0\n",
       "2600          1989      1980            9"
      ]
     },
     "execution_count": 27,
     "metadata": {},
     "output_type": "execute_result"
    }
   ],
   "source": [
    "df_group_max = df.groupby('platform')['year_of_release'].max() \n",
    "df_group_min = df.groupby('platform')['year_of_release'].min() \n",
    "data_group_total = pd.DataFrame([df_group_max, df_group_min]).T\n",
    "data_group_total['life_period'] = df_group_max - df_group_min\n",
    "data_group_total.set_axis(['max_year', 'min_year', 'life_period'], axis='columns', inplace=True)\n",
    "data_group_total.sort_values('max_year', ascending = False)"
   ]
  },
  {
   "cell_type": "code",
   "execution_count": 28,
   "metadata": {},
   "outputs": [
    {
     "name": "stdout",
     "output_type": "stream",
     "text": [
      "The median lifespan of platforms that release games over the entire period: 6.0\n"
     ]
    }
   ],
   "source": [
    "print('The median lifespan of platforms that release games over the entire period:', data_group_total['life_period'].median())"
   ]
  },
  {
   "cell_type": "markdown",
   "metadata": {},
   "source": [
    "Let's take a look at the platforms with games released in 2016:"
   ]
  },
  {
   "cell_type": "code",
   "execution_count": 29,
   "metadata": {},
   "outputs": [
    {
     "name": "stdout",
     "output_type": "stream",
     "text": [
      "The median lifespan of platforms that release games in 2016: 5.0\n"
     ]
    }
   ],
   "source": [
    "data_group_total_2016 = data_group_total.query('max_year == 2016')\n",
    "print('The median lifespan of platforms that release games in 2016:', data_group_total_2016['life_period'].median())"
   ]
  },
  {
   "cell_type": "markdown",
   "metadata": {},
   "source": [
    "> * Based on the median, we should start considering data from the year 2012. However, according to the above graph, by 2012 one of the platforms stops releasing games, and the activity of many platforms begins to decrease.\n",
    "> * Considering all the mentioned factors, we will consider the data for the **relevant period** from **2013 to 2016**.\n"
   ]
  },
  {
   "cell_type": "code",
   "execution_count": 30,
   "metadata": {},
   "outputs": [
    {
     "data": {
      "text/plain": [
       "array([2013, 2015, 2014, 2016])"
      ]
     },
     "execution_count": 30,
     "metadata": {},
     "output_type": "execute_result"
    }
   ],
   "source": [
    "#final check\n",
    "df_actual = df_new[(df_new['year_of_release'] > 2012)]\n",
    "df_actual['year_of_release'].unique()"
   ]
  },
  {
   "cell_type": "markdown",
   "metadata": {},
   "source": [
    "### Selecting Profitable Platforms"
   ]
  },
  {
   "cell_type": "markdown",
   "metadata": {},
   "source": [
    "Earlier, we mentioned the top 5 platforms by the quantity of copies sold worldwide. Let's take another look at the sales dynamics, excluding irrelevant data:"
   ]
  },
  {
   "cell_type": "code",
   "execution_count": 31,
   "metadata": {},
   "outputs": [
    {
     "data": {
      "text/plain": [
       "Text(0.5, 1.0, 'Percentage of Copies Sold (%) on Platform')"
      ]
     },
     "execution_count": 31,
     "metadata": {},
     "output_type": "execute_result"
    },
    {
     "data": {
      "image/png": "[encoded data removed]",
      "text/plain": [
       "<Figure size 1080x360 with 2 Axes>"
      ]
     },
     "metadata": {
      "needs_background": "light"
     },
     "output_type": "display_data"
    }
   ],
   "source": [
    "df1 = pd.pivot_table(df_actual, values='total_sales', index='year_of_release', columns='platform',\n",
    "                    aggfunc=np.sum)\n",
    "df2 = pd.pivot_table(df_actual, values='total_sales', index='platform',\n",
    "                   aggfunc=np.sum)\n",
    "\n",
    "fig, axes = plt.subplots(nrows = 1, ncols = 2, figsize=(15, 5))\n",
    "\n",
    "df1.plot(xticks=df1.index, ax=axes[0])\n",
    "axes[0].set_title(\"Number of copies sold (millions)\\n worldwide over 4 years\")\n",
    "axes[0].set_ylabel(\"Global sales (MM)\")\n",
    "axes[0].set_xlabel(\"Year of game release\")\n",
    "\n",
    "ax2 = df2.sort_values('total_sales', ascending=False).head(5).plot.pie(autopct=\"%.1f%%\", subplots=True, ax=axes[1])\n",
    "plt.legend(title = 'Platforms', bbox_to_anchor=(1.05, 1), loc=2, borderaxespad=0.)\n",
    "plt.title('Percentage of Copies Sold (%) on Platform')"
   ]
  },
  {
   "cell_type": "markdown",
   "metadata": {},
   "source": [
    "- The PS4 platform accounts for the largest share of all game sales (33%), followed by XOne at 17%. Additionally, the graph above shows that these two platforms, unlike the others, significantly increased their number of games sold (in millions) by 2015.\n",
    "- This isn't the case for the 3DS, PS3, and X360 platforms – their sales figures sharply declined by 2015. The situation with PS3 is quite logical, as it's an outdated version compared to the PS4.\n",
    "- There are platforms that don't make it to the top 5 in global sales, yet their figures remain stable over time – WiiU and PC (personal computer). The result for PC can also be explained: it's a platform that isn't subject to updates and is owned by a large number of people.\n",
    "- Therefore, potentially profitable platforms might include: PS4, 3DS, WiiU, XOne, PC"
   ]
  },
  {
   "cell_type": "code",
   "execution_count": 32,
   "metadata": {},
   "outputs": [
    {
     "data": {
      "text/html": [
       "<div>\n",
       "<style scoped>\n",
       "    .dataframe tbody tr th:only-of-type {\n",
       "        vertical-align: middle;\n",
       "    }\n",
       "\n",
       "    .dataframe tbody tr th {\n",
       "        vertical-align: top;\n",
       "    }\n",
       "\n",
       "    .dataframe thead th {\n",
       "        text-align: right;\n",
       "    }\n",
       "</style>\n",
       "<table border=\"1\" class=\"dataframe\">\n",
       "  <thead>\n",
       "    <tr style=\"text-align: right;\">\n",
       "      <th>platform</th>\n",
       "      <th>3DS</th>\n",
       "      <th>DS</th>\n",
       "      <th>PC</th>\n",
       "      <th>PS3</th>\n",
       "      <th>PS4</th>\n",
       "      <th>PSP</th>\n",
       "      <th>PSV</th>\n",
       "      <th>Wii</th>\n",
       "      <th>WiiU</th>\n",
       "      <th>X360</th>\n",
       "      <th>XOne</th>\n",
       "    </tr>\n",
       "    <tr>\n",
       "      <th>year_of_release</th>\n",
       "      <th></th>\n",
       "      <th></th>\n",
       "      <th></th>\n",
       "      <th></th>\n",
       "      <th></th>\n",
       "      <th></th>\n",
       "      <th></th>\n",
       "      <th></th>\n",
       "      <th></th>\n",
       "      <th></th>\n",
       "      <th></th>\n",
       "    </tr>\n",
       "  </thead>\n",
       "  <tbody>\n",
       "    <tr>\n",
       "      <th>2013</th>\n",
       "      <td>56.57</td>\n",
       "      <td>1.54</td>\n",
       "      <td>12.38</td>\n",
       "      <td>113.25</td>\n",
       "      <td>25.99</td>\n",
       "      <td>3.14</td>\n",
       "      <td>10.59</td>\n",
       "      <td>8.59</td>\n",
       "      <td>21.65</td>\n",
       "      <td>88.58</td>\n",
       "      <td>18.96</td>\n",
       "    </tr>\n",
       "    <tr>\n",
       "      <th>2014</th>\n",
       "      <td>43.76</td>\n",
       "      <td>NaN</td>\n",
       "      <td>13.28</td>\n",
       "      <td>47.76</td>\n",
       "      <td>100.00</td>\n",
       "      <td>0.24</td>\n",
       "      <td>11.90</td>\n",
       "      <td>3.75</td>\n",
       "      <td>22.03</td>\n",
       "      <td>34.74</td>\n",
       "      <td>54.07</td>\n",
       "    </tr>\n",
       "    <tr>\n",
       "      <th>2015</th>\n",
       "      <td>27.78</td>\n",
       "      <td>NaN</td>\n",
       "      <td>8.52</td>\n",
       "      <td>16.82</td>\n",
       "      <td>118.90</td>\n",
       "      <td>0.12</td>\n",
       "      <td>6.25</td>\n",
       "      <td>1.14</td>\n",
       "      <td>16.35</td>\n",
       "      <td>11.96</td>\n",
       "      <td>60.14</td>\n",
       "    </tr>\n",
       "    <tr>\n",
       "      <th>2016</th>\n",
       "      <td>15.14</td>\n",
       "      <td>NaN</td>\n",
       "      <td>5.25</td>\n",
       "      <td>3.60</td>\n",
       "      <td>69.25</td>\n",
       "      <td>NaN</td>\n",
       "      <td>4.25</td>\n",
       "      <td>0.18</td>\n",
       "      <td>4.60</td>\n",
       "      <td>1.52</td>\n",
       "      <td>26.15</td>\n",
       "    </tr>\n",
       "  </tbody>\n",
       "</table>\n",
       "</div>"
      ],
      "text/plain": [
       "platform           3DS    DS     PC     PS3     PS4   PSP    PSV   Wii   WiiU  \\\n",
       "year_of_release                                                                 \n",
       "2013             56.57  1.54  12.38  113.25   25.99  3.14  10.59  8.59  21.65   \n",
       "2014             43.76   NaN  13.28   47.76  100.00  0.24  11.90  3.75  22.03   \n",
       "2015             27.78   NaN   8.52   16.82  118.90  0.12   6.25  1.14  16.35   \n",
       "2016             15.14   NaN   5.25    3.60   69.25   NaN   4.25  0.18   4.60   \n",
       "\n",
       "platform          X360   XOne  \n",
       "year_of_release                \n",
       "2013             88.58  18.96  \n",
       "2014             34.74  54.07  \n",
       "2015             11.96  60.14  \n",
       "2016              1.52  26.15  "
      ]
     },
     "execution_count": 32,
     "metadata": {},
     "output_type": "execute_result"
    }
   ],
   "source": [
    "df_actual.pivot_table(index='year_of_release', columns='platform', values='total_sales', aggfunc='sum')"
   ]
  },
  {
   "cell_type": "markdown",
   "metadata": {},
   "source": [
    "###  Analysis of Popular Platforms"
   ]
  },
  {
   "cell_type": "code",
   "execution_count": 33,
   "metadata": {},
   "outputs": [],
   "source": [
    "#top-5\n",
    "top_5_platforms = df_actual.loc[df_actual['platform'].isin(['PS4', '3DS', 'XOne', 'WiiU', 'PC'])]"
   ]
  },
  {
   "cell_type": "markdown",
   "metadata": {},
   "source": [
    "*We have a value of -1 in user ratings. Firstly, I will count how many such values are there and, if necessary, filter them out for calculating variances*."
   ]
  },
  {
   "cell_type": "code",
   "execution_count": 34,
   "metadata": {},
   "outputs": [
    {
     "data": {
      "text/plain": [
       "4.173354735152488"
      ]
     },
     "execution_count": 34,
     "metadata": {},
     "output_type": "execute_result"
    }
   ],
   "source": [
    "((len(top_5_platforms.loc[top_5_platforms['user_score'] == -1]))*100) / len(top_5_platforms)"
   ]
  },
  {
   "cell_type": "code",
   "execution_count": 35,
   "metadata": {},
   "outputs": [],
   "source": [
    "#delete -1 in user ratings\n",
    "top_5_platforms_no_tbd = top_5_platforms.loc[top_5_platforms['user_score'] != -1]"
   ]
  },
  {
   "cell_type": "code",
   "execution_count": 36,
   "metadata": {},
   "outputs": [
    {
     "data": {
      "image/png": "[encoded data removed]",
      "text/plain": [
       "<Figure size 720x432 with 1 Axes>"
      ]
     },
     "metadata": {
      "needs_background": "light"
     },
     "output_type": "display_data"
    }
   ],
   "source": [
    "plt.figure(figsize=(10, 6))\n",
    "sns.boxplot(x=\"platform\", y=\"total_sales\", data=top_5_platforms_no_tbd)\n",
    "plt.ylim([-2,10])\n",
    "plt.title('Box Plots')\n",
    "plt.xlabel('Platforms')\n",
    "plt.ylabel('Global Sales (MM)')\n",
    "plt.grid()\n",
    "plt.tight_layout()"
   ]
  },
  {
   "cell_type": "markdown",
   "metadata": {},
   "source": [
    "> * The selected platforms have many sales outliers of varying frequency. However, almost all platforms (except PC) have best-selling games: rare values beyond the mark of 6 million copies sold."
   ]
  },
  {
   "cell_type": "markdown",
   "metadata": {},
   "source": [
    "**1.Do User and Critic Reviews Affect Sales Within a Popular Platform - PS4?**"
   ]
  },
  {
   "cell_type": "markdown",
   "metadata": {},
   "source": [
    "H0: There is no correlation between reviews and sales.\n",
    "\n",
    "H1: There is a correlation."
   ]
  },
  {
   "cell_type": "code",
   "execution_count": 37,
   "metadata": {},
   "outputs": [],
   "source": [
    "top_platform_PS4 = top_5_platforms_no_tbd.loc[top_5_platforms_no_tbd['platform'] == 'PS4']"
   ]
  },
  {
   "cell_type": "code",
   "execution_count": 38,
   "metadata": {},
   "outputs": [
    {
     "data": {
      "text/plain": [
       "Text(0.5, 0.98, 'Box plots: PS4')"
      ]
     },
     "execution_count": 38,
     "metadata": {},
     "output_type": "execute_result"
    },
    {
     "data": {
      "image/png": "[encoded data removed]",
      "text/plain": [
       "<Figure size 864x432 with 3 Axes>"
      ]
     },
     "metadata": {
      "needs_background": "light"
     },
     "output_type": "display_data"
    }
   ],
   "source": [
    "fig, axes = plt.subplots(nrows=1, ncols=3, figsize=(12,6))\n",
    "top_platform_PS4[['total_sales']].boxplot(ax=axes[0])\n",
    "top_platform_PS4[['user_score']].boxplot(ax=axes[1])\n",
    "top_platform_PS4[['critic_score']].boxplot(ax=axes[2])\n",
    "fig.suptitle('Box plots: PS4', fontsize=14)"
   ]
  },
  {
   "cell_type": "markdown",
   "metadata": {},
   "source": [
    "> * `total_sales` contains rare outliers.\n",
    "> * The distribution of `user_score` and `critic_score` is heavily skewed towards 0 due to a significant portion of categories being replaced with `na` and then with 0.\n",
    "\n",
    "Let's filter out these 0 values and remove the outliers."
   ]
  },
  {
   "cell_type": "code",
   "execution_count": 39,
   "metadata": {},
   "outputs": [],
   "source": [
    "#delete outliers\n",
    "top_platform_PS4 = top_platform_PS4[top_platform_PS4['total_sales'] < 5]"
   ]
  },
  {
   "cell_type": "code",
   "execution_count": 40,
   "metadata": {},
   "outputs": [],
   "source": [
    "#filter for 0\n",
    "top_platform_PS4_no_0 = top_platform_PS4[top_platform_PS4['critic_score'] > 0]\n",
    "top_platform_PS4_no_0 = top_platform_PS4_no_0[top_platform_PS4_no_0['user_score'] > 0]"
   ]
  },
  {
   "cell_type": "code",
   "execution_count": 41,
   "metadata": {},
   "outputs": [
    {
     "data": {
      "text/html": [
       "<div>\n",
       "<style scoped>\n",
       "    .dataframe tbody tr th:only-of-type {\n",
       "        vertical-align: middle;\n",
       "    }\n",
       "\n",
       "    .dataframe tbody tr th {\n",
       "        vertical-align: top;\n",
       "    }\n",
       "\n",
       "    .dataframe thead th {\n",
       "        text-align: right;\n",
       "    }\n",
       "</style>\n",
       "<table border=\"1\" class=\"dataframe\">\n",
       "  <thead>\n",
       "    <tr style=\"text-align: right;\">\n",
       "      <th></th>\n",
       "      <th>total_sales</th>\n",
       "      <th>critic_score</th>\n",
       "      <th>user_score</th>\n",
       "    </tr>\n",
       "  </thead>\n",
       "  <tbody>\n",
       "    <tr>\n",
       "      <th>count</th>\n",
       "      <td>241.000000</td>\n",
       "      <td>241.000000</td>\n",
       "      <td>241.000000</td>\n",
       "    </tr>\n",
       "    <tr>\n",
       "      <th>mean</th>\n",
       "      <td>0.761535</td>\n",
       "      <td>71.684647</td>\n",
       "      <td>6.768465</td>\n",
       "    </tr>\n",
       "    <tr>\n",
       "      <th>std</th>\n",
       "      <td>1.067316</td>\n",
       "      <td>12.458269</td>\n",
       "      <td>1.457681</td>\n",
       "    </tr>\n",
       "    <tr>\n",
       "      <th>min</th>\n",
       "      <td>0.010000</td>\n",
       "      <td>19.000000</td>\n",
       "      <td>1.500000</td>\n",
       "    </tr>\n",
       "    <tr>\n",
       "      <th>25%</th>\n",
       "      <td>0.070000</td>\n",
       "      <td>66.000000</td>\n",
       "      <td>6.200000</td>\n",
       "    </tr>\n",
       "    <tr>\n",
       "      <th>50%</th>\n",
       "      <td>0.260000</td>\n",
       "      <td>73.000000</td>\n",
       "      <td>7.100000</td>\n",
       "    </tr>\n",
       "    <tr>\n",
       "      <th>75%</th>\n",
       "      <td>0.930000</td>\n",
       "      <td>80.000000</td>\n",
       "      <td>7.800000</td>\n",
       "    </tr>\n",
       "    <tr>\n",
       "      <th>max</th>\n",
       "      <td>4.620000</td>\n",
       "      <td>93.000000</td>\n",
       "      <td>9.200000</td>\n",
       "    </tr>\n",
       "  </tbody>\n",
       "</table>\n",
       "</div>"
      ],
      "text/plain": [
       "       total_sales  critic_score  user_score\n",
       "count   241.000000    241.000000  241.000000\n",
       "mean      0.761535     71.684647    6.768465\n",
       "std       1.067316     12.458269    1.457681\n",
       "min       0.010000     19.000000    1.500000\n",
       "25%       0.070000     66.000000    6.200000\n",
       "50%       0.260000     73.000000    7.100000\n",
       "75%       0.930000     80.000000    7.800000\n",
       "max       4.620000     93.000000    9.200000"
      ]
     },
     "execution_count": 41,
     "metadata": {},
     "output_type": "execute_result"
    }
   ],
   "source": [
    "top_platform_PS4_no_0[['total_sales', 'critic_score', 'user_score']].describe()"
   ]
  },
  {
   "cell_type": "markdown",
   "metadata": {},
   "source": [
    "* The standard deviation of user and critic scores is relatively small, indicating that the values in the dataset are clustered around the mean (6.7 and 71.6 respectively)."
   ]
  },
  {
   "cell_type": "markdown",
   "metadata": {},
   "source": [
    "Let's take a look at scatter plots:"
   ]
  },
  {
   "cell_type": "code",
   "execution_count": 42,
   "metadata": {},
   "outputs": [
    {
     "data": {
      "text/plain": [
       "Text(0.5, 0.98, 'Scatter Plots: PS4')"
      ]
     },
     "execution_count": 42,
     "metadata": {},
     "output_type": "execute_result"
    },
    {
     "data": {
      "image/png": "[encoded data removed]",
      "text/plain": [
       "<Figure size 864x216 with 2 Axes>"
      ]
     },
     "metadata": {
      "needs_background": "light"
     },
     "output_type": "display_data"
    }
   ],
   "source": [
    "fig, axes = plt.subplots(nrows=1, ncols=2, figsize=(12,3))\n",
    "top_platform_PS4_no_0.plot(x='critic_score', y='total_sales', kind='scatter', alpha=0.3, ax=axes[0]) \n",
    "top_platform_PS4_no_0.plot(x='user_score', y='total_sales', kind='scatter', alpha=0.3, ax=axes[1], color='orange')\n",
    "axes[0].set_xlabel(\"Critic Score\")\n",
    "axes[0].set_ylabel(\"Global Sales (MM)\")\n",
    "axes[1].set_xlabel(\"User Score\")\n",
    "axes[1].set_ylabel(\"Global Sales (MM)\")\n",
    "fig.suptitle('Scatter Plots: PS4', fontsize=14)"
   ]
  },
  {
   "cell_type": "markdown",
   "metadata": {},
   "source": [
    "Indeed, according to the scatter plots, it seems that critic scores are positively correlated with higher sales. However, let's also calculate the *Spearman correlation coefficient* using a non-parametric approach to assess this relationship. The Spearman correlation is more robust when dealing with non-uniform distributions."
   ]
  },
  {
   "cell_type": "markdown",
   "metadata": {},
   "source": [
    "Let's test the correlations on the test dataset:"
   ]
  },
  {
   "cell_type": "code",
   "execution_count": 43,
   "metadata": {},
   "outputs": [],
   "source": [
    "from scipy.stats import spearmanr"
   ]
  },
  {
   "cell_type": "code",
   "execution_count": 44,
   "metadata": {},
   "outputs": [
    {
     "data": {
      "text/plain": [
       "SpearmanrResult(correlation=0.4755006264705899, pvalue=5.33277620236531e-15)"
      ]
     },
     "execution_count": 44,
     "metadata": {},
     "output_type": "execute_result"
    }
   ],
   "source": [
    "spearmanr(top_platform_PS4_no_0['critic_score'], top_platform_PS4_no_0['total_sales']) "
   ]
  },
  {
   "cell_type": "code",
   "execution_count": 45,
   "metadata": {},
   "outputs": [
    {
     "data": {
      "text/plain": [
       "SpearmanrResult(correlation=-0.004829377346965932, pvalue=0.9405467062111337)"
      ]
     },
     "execution_count": 45,
     "metadata": {},
     "output_type": "execute_result"
    }
   ],
   "source": [
    "spearmanr(top_platform_PS4_no_0['user_score'], top_platform_PS4_no_0['total_sales']) "
   ]
  },
  {
   "cell_type": "markdown",
   "metadata": {},
   "source": [
    "> * According to the Spearman's rank correlation coefficient, there is a positive correlation between critic scores (`critic_score`) and total sales (`total_sales`) - we couldn't accept the null hypothesis H0.\n",
    "> * However, there is no correlation between user scores (`user_score`) and total sales (`total_sales`) - we accept the null hypothesis H0."
   ]
  },
  {
   "cell_type": "markdown",
   "metadata": {},
   "source": [
    "**2. Do user and critic reviews affect sales within the other popular platforms?**"
   ]
  },
  {
   "cell_type": "markdown",
   "metadata": {},
   "source": [
    "Let's conduct a similar analysis for the remaining platforms:\n",
    "\n",
    "* H0: There is no correlation between reviews and sales.\n",
    "* H1: There is a correlation between reviews and sales."
   ]
  },
  {
   "cell_type": "code",
   "execution_count": 46,
   "metadata": {},
   "outputs": [],
   "source": [
    "other_platforms = top_5_platforms_no_tbd.loc[top_5_platforms_no_tbd['platform'] != 'PS4']"
   ]
  },
  {
   "cell_type": "code",
   "execution_count": 47,
   "metadata": {},
   "outputs": [
    {
     "data": {
      "text/plain": [
       "Text(0.5, 0.98, 'Box plots: 3DS, XOne, WiiU, PC')"
      ]
     },
     "execution_count": 47,
     "metadata": {},
     "output_type": "execute_result"
    },
    {
     "data": {
      "image/png": "[encoded data removed]",
      "text/plain": [
       "<Figure size 864x432 with 3 Axes>"
      ]
     },
     "metadata": {
      "needs_background": "light"
     },
     "output_type": "display_data"
    }
   ],
   "source": [
    "fig, axes = plt.subplots(nrows=1, ncols=3, figsize=(12,6))\n",
    "\n",
    "other_platforms[['total_sales']].boxplot(ax=axes[0])\n",
    "other_platforms[['user_score']].boxplot(ax=axes[1])\n",
    "other_platforms[['critic_score']].boxplot(ax=axes[2])\n",
    "fig.suptitle('Box plots: 3DS, XOne, WiiU, PC', fontsize=14)"
   ]
  },
  {
   "cell_type": "code",
   "execution_count": 48,
   "metadata": {},
   "outputs": [],
   "source": [
    "#delete outliers\n",
    "other_platforms = other_platforms[other_platforms['total_sales'] < 6]"
   ]
  },
  {
   "cell_type": "code",
   "execution_count": 49,
   "metadata": {},
   "outputs": [],
   "source": [
    "#filter for 0\n",
    "other_platforms_no_0 = other_platforms[other_platforms['critic_score'] > 0]\n",
    "other_platforms_no_0 = other_platforms_no_0[other_platforms_no_0['user_score'] > 0]"
   ]
  },
  {
   "cell_type": "code",
   "execution_count": 50,
   "metadata": {},
   "outputs": [
    {
     "data": {
      "text/html": [
       "<div>\n",
       "<style scoped>\n",
       "    .dataframe tbody tr th:only-of-type {\n",
       "        vertical-align: middle;\n",
       "    }\n",
       "\n",
       "    .dataframe tbody tr th {\n",
       "        vertical-align: top;\n",
       "    }\n",
       "\n",
       "    .dataframe thead th {\n",
       "        text-align: right;\n",
       "    }\n",
       "</style>\n",
       "<table border=\"1\" class=\"dataframe\">\n",
       "  <thead>\n",
       "    <tr style=\"text-align: right;\">\n",
       "      <th></th>\n",
       "      <th>total_sales</th>\n",
       "      <th>critic_score</th>\n",
       "      <th>user_score</th>\n",
       "    </tr>\n",
       "  </thead>\n",
       "  <tbody>\n",
       "    <tr>\n",
       "      <th>count</th>\n",
       "      <td>448.000000</td>\n",
       "      <td>448.000000</td>\n",
       "      <td>448.000000</td>\n",
       "    </tr>\n",
       "    <tr>\n",
       "      <th>mean</th>\n",
       "      <td>0.556339</td>\n",
       "      <td>73.258929</td>\n",
       "      <td>6.656696</td>\n",
       "    </tr>\n",
       "    <tr>\n",
       "      <th>std</th>\n",
       "      <td>0.858867</td>\n",
       "      <td>12.468122</td>\n",
       "      <td>1.504118</td>\n",
       "    </tr>\n",
       "    <tr>\n",
       "      <th>min</th>\n",
       "      <td>0.010000</td>\n",
       "      <td>20.000000</td>\n",
       "      <td>1.400000</td>\n",
       "    </tr>\n",
       "    <tr>\n",
       "      <th>25%</th>\n",
       "      <td>0.067500</td>\n",
       "      <td>67.000000</td>\n",
       "      <td>5.800000</td>\n",
       "    </tr>\n",
       "    <tr>\n",
       "      <th>50%</th>\n",
       "      <td>0.230000</td>\n",
       "      <td>75.000000</td>\n",
       "      <td>6.900000</td>\n",
       "    </tr>\n",
       "    <tr>\n",
       "      <th>75%</th>\n",
       "      <td>0.630000</td>\n",
       "      <td>82.000000</td>\n",
       "      <td>7.800000</td>\n",
       "    </tr>\n",
       "    <tr>\n",
       "      <th>max</th>\n",
       "      <td>5.470000</td>\n",
       "      <td>97.000000</td>\n",
       "      <td>9.300000</td>\n",
       "    </tr>\n",
       "  </tbody>\n",
       "</table>\n",
       "</div>"
      ],
      "text/plain": [
       "       total_sales  critic_score  user_score\n",
       "count   448.000000    448.000000  448.000000\n",
       "mean      0.556339     73.258929    6.656696\n",
       "std       0.858867     12.468122    1.504118\n",
       "min       0.010000     20.000000    1.400000\n",
       "25%       0.067500     67.000000    5.800000\n",
       "50%       0.230000     75.000000    6.900000\n",
       "75%       0.630000     82.000000    7.800000\n",
       "max       5.470000     97.000000    9.300000"
      ]
     },
     "execution_count": 50,
     "metadata": {},
     "output_type": "execute_result"
    }
   ],
   "source": [
    "other_platforms_no_0[['total_sales', 'critic_score', 'user_score']].describe()"
   ]
  },
  {
   "cell_type": "markdown",
   "metadata": {},
   "source": [
    "Now let's build scatter plots and conduct non-parametric tests:"
   ]
  },
  {
   "cell_type": "code",
   "execution_count": 51,
   "metadata": {},
   "outputs": [
    {
     "data": {
      "text/plain": [
       "Text(0.5, 0.98, 'Scatter Plots: 3DS, XOne, WiiU, PC')"
      ]
     },
     "execution_count": 51,
     "metadata": {},
     "output_type": "execute_result"
    },
    {
     "data": {
      "image/png": "[encoded data removed]",
      "text/plain": [
       "<Figure size 864x216 with 2 Axes>"
      ]
     },
     "metadata": {
      "needs_background": "light"
     },
     "output_type": "display_data"
    }
   ],
   "source": [
    "fig, axes = plt.subplots(nrows=1, ncols=2, figsize=(12,3))\n",
    "other_platforms_no_0.plot(x='critic_score', y='total_sales', kind='scatter', alpha=0.3, ax=axes[0]) \n",
    "other_platforms_no_0.plot(x='user_score', y='total_sales', kind='scatter', alpha=0.3, ax=axes[1], color='orange')\n",
    "axes[0].set_xlabel(\"Critics Score\")\n",
    "axes[0].set_ylabel(\"Global Sales (MM)\")\n",
    "axes[1].set_xlabel(\"User Score\")\n",
    "axes[1].set_ylabel(\"Global Sales (MM)\")\n",
    "fig.suptitle('Scatter Plots: 3DS, XOne, WiiU, PC', fontsize=14)"
   ]
  },
  {
   "cell_type": "code",
   "execution_count": 52,
   "metadata": {},
   "outputs": [
    {
     "data": {
      "text/plain": [
       "SpearmanrResult(correlation=0.3599219586045258, pvalue=3.78526106531584e-15)"
      ]
     },
     "execution_count": 52,
     "metadata": {},
     "output_type": "execute_result"
    }
   ],
   "source": [
    "spearmanr(other_platforms_no_0['critic_score'], other_platforms_no_0['total_sales']) "
   ]
  },
  {
   "cell_type": "code",
   "execution_count": 53,
   "metadata": {},
   "outputs": [
    {
     "data": {
      "text/plain": [
       "SpearmanrResult(correlation=0.043655125841282956, pvalue=0.3566000734628997)"
      ]
     },
     "execution_count": 53,
     "metadata": {},
     "output_type": "execute_result"
    }
   ],
   "source": [
    "spearmanr(other_platforms_no_0['user_score'], other_platforms_no_0['total_sales']) "
   ]
  },
  {
   "cell_type": "markdown",
   "metadata": {},
   "source": [
    "> * The critic score is also weakly and positively correlated with sales volumes among the following platforms: 3DS, XOne, WiiU, PC. In the case of user scores, there is no correlation. However, we do not have sufficient grounds to accept H0 about the absence of a correlation between scores (in this case, critics' scores) and sales.\n",
    "> * This is likely because there are fewer critics in general, and they rarely give low scores."
   ]
  },
  {
   "cell_type": "markdown",
   "metadata": {},
   "source": [
    "**3. Are there any differences between genres among popular platforms?**"
   ]
  },
  {
   "cell_type": "code",
   "execution_count": 54,
   "metadata": {},
   "outputs": [
    {
     "data": {
      "text/html": [
       "<div>\n",
       "<style scoped>\n",
       "    .dataframe tbody tr th:only-of-type {\n",
       "        vertical-align: middle;\n",
       "    }\n",
       "\n",
       "    .dataframe tbody tr th {\n",
       "        vertical-align: top;\n",
       "    }\n",
       "\n",
       "    .dataframe thead th {\n",
       "        text-align: right;\n",
       "    }\n",
       "</style>\n",
       "<table border=\"1\" class=\"dataframe\">\n",
       "  <thead>\n",
       "    <tr style=\"text-align: right;\">\n",
       "      <th></th>\n",
       "      <th>name</th>\n",
       "      <th>total_sales</th>\n",
       "    </tr>\n",
       "    <tr>\n",
       "      <th>genre</th>\n",
       "      <th></th>\n",
       "      <th></th>\n",
       "    </tr>\n",
       "  </thead>\n",
       "  <tbody>\n",
       "    <tr>\n",
       "      <th>Shooter</th>\n",
       "      <td>120</td>\n",
       "      <td>0.495</td>\n",
       "    </tr>\n",
       "    <tr>\n",
       "      <th>Sports</th>\n",
       "      <td>110</td>\n",
       "      <td>0.275</td>\n",
       "    </tr>\n",
       "    <tr>\n",
       "      <th>Platform</th>\n",
       "      <td>49</td>\n",
       "      <td>0.260</td>\n",
       "    </tr>\n",
       "    <tr>\n",
       "      <th>Role-Playing</th>\n",
       "      <td>150</td>\n",
       "      <td>0.190</td>\n",
       "    </tr>\n",
       "    <tr>\n",
       "      <th>Fighting</th>\n",
       "      <td>38</td>\n",
       "      <td>0.155</td>\n",
       "    </tr>\n",
       "    <tr>\n",
       "      <th>Misc</th>\n",
       "      <td>93</td>\n",
       "      <td>0.120</td>\n",
       "    </tr>\n",
       "    <tr>\n",
       "      <th>Racing</th>\n",
       "      <td>57</td>\n",
       "      <td>0.120</td>\n",
       "    </tr>\n",
       "    <tr>\n",
       "      <th>Action</th>\n",
       "      <td>443</td>\n",
       "      <td>0.110</td>\n",
       "    </tr>\n",
       "    <tr>\n",
       "      <th>Simulation</th>\n",
       "      <td>47</td>\n",
       "      <td>0.100</td>\n",
       "    </tr>\n",
       "    <tr>\n",
       "      <th>Puzzle</th>\n",
       "      <td>14</td>\n",
       "      <td>0.085</td>\n",
       "    </tr>\n",
       "    <tr>\n",
       "      <th>Strategy</th>\n",
       "      <td>42</td>\n",
       "      <td>0.080</td>\n",
       "    </tr>\n",
       "    <tr>\n",
       "      <th>Adventure</th>\n",
       "      <td>83</td>\n",
       "      <td>0.060</td>\n",
       "    </tr>\n",
       "  </tbody>\n",
       "</table>\n",
       "</div>"
      ],
      "text/plain": [
       "              name  total_sales\n",
       "genre                          \n",
       "Shooter        120        0.495\n",
       "Sports         110        0.275\n",
       "Platform        49        0.260\n",
       "Role-Playing   150        0.190\n",
       "Fighting        38        0.155\n",
       "Misc            93        0.120\n",
       "Racing          57        0.120\n",
       "Action         443        0.110\n",
       "Simulation      47        0.100\n",
       "Puzzle          14        0.085\n",
       "Strategy        42        0.080\n",
       "Adventure       83        0.060"
      ]
     },
     "execution_count": 54,
     "metadata": {},
     "output_type": "execute_result"
    }
   ],
   "source": [
    "top_5_platforms_genre = pd.pivot_table(top_5_platforms, values=['name', 'total_sales'], \n",
    "                                index=['genre'], aggfunc={'name': 'count',\n",
    "                             'total_sales': 'median'})\n",
    "top_5_platforms_genre.sort_values('total_sales', ascending=False)"
   ]
  },
  {
   "cell_type": "markdown",
   "metadata": {},
   "source": [
    "> * The most popular genres in terms of sales are Shooter, Sports, and Platform.\n",
    "> * The least popular genres are Puzzle, Strategy, and Adventure.\n",
    "> * In our dataset, there are the most games of the genres Action (443 games) and Role-Playing (150 games), but they do not belong to the top 3 in terms of sales.\n",
    "> * **It turns out that the most popular genre is not always the most successful in terms of sales.**"
   ]
  },
  {
   "cell_type": "markdown",
   "metadata": {},
   "source": [
    "<a id=\"step3\"></a>\n",
    "**Conclusion**"
   ]
  },
  {
   "cell_type": "markdown",
   "metadata": {},
   "source": [
    "At this stage, we selected the relevant period from 2013 to 2016, based on the graph data as well as the median lifespan of platforms.\n",
    "\n",
    "Next, we identified the top 5 platforms based on multiple factors: 1) the quantity of copies sold throughout the relevant period; 2) the dynamics of sales growth/decline during the relevant period. As a result, the following platforms were selected: 'PS4', '3DS', 'XOne', 'WiiU', and 'PC'.\n",
    "\n",
    "For the selected data, we conducted a correlation analysis, comparing the results with the leading sales platform, PS4. *According to the Spearman test, the sales volume of PS4 games is weakly and positively influenced by critic scores. However, user scores have no influence on sales. As for the other platforms, a strong connection was found between critic scores and sales volume. In the case of user scores, no correlation was observed*.\n",
    "\n",
    "Finally, we compared genres among the selected top 5 platforms. *As a result, we discovered that there are popular genres with relatively low sales volumes. It might be worth reconsidering the pricing strategy for games in these genres to enhance profitability*."
   ]
  },
  {
   "cell_type": "markdown",
   "metadata": {},
   "source": [
    "###  User Profile for Each Region\n",
    "\n",
    "Let's identify distinctive characteristics for users in each region (NA, EU, JP)."
   ]
  },
  {
   "cell_type": "markdown",
   "metadata": {},
   "source": [
    "1. The Most Popular Platforms (Top 5):"
   ]
  },
  {
   "cell_type": "markdown",
   "metadata": {},
   "source": [
    "Let's calculate the share of sales by platforms:"
   ]
  },
  {
   "cell_type": "code",
   "execution_count": 55,
   "metadata": {},
   "outputs": [
    {
     "data": {
      "text/plain": [
       "Text(0.5, 1.0, 'Japan')"
      ]
     },
     "execution_count": 55,
     "metadata": {},
     "output_type": "execute_result"
    },
    {
     "data": {
      "image/png": "[encoded data removed]",
      "text/plain": [
       "<Figure size 1152x504 with 3 Axes>"
      ]
     },
     "metadata": {
      "needs_background": "light"
     },
     "output_type": "display_data"
    }
   ],
   "source": [
    "def proportion_platform(df, region_sales):\n",
    "    regions_platf = df.pivot_table(values=[region_sales,'total_sales'] , index=['platform'], \n",
    "                                                 aggfunc={region_sales: np.sum, 'total_sales': np.sum}).sort_values(region_sales, ascending=False).head(5)\n",
    "    regions_platf['prop'] = ((regions_platf[region_sales] / regions_platf['total_sales'])*100)\n",
    "    \n",
    "    return regions_platf\n",
    "  \n",
    "def plot(table, axes):\n",
    "    ax = table.plot.bar(y='prop', ax=axes, color= ['grey', 'brown', 'green', 'pink', 'orange'])\n",
    "    axes.set_xlabel(\"Platforms\")\n",
    "    axes.set_ylabel(\"Share of Total Sales (%)\")\n",
    "    for rect in ax.patches:\n",
    "        ax.text (rect.get_x(), rect.get_height(),\"%.1f%%\"% rect.get_height(), weight='bold')\n",
    "\n",
    "fig, axes = plt.subplots(nrows=1, ncols=3, figsize=(16,7))\n",
    "\n",
    "plot(proportion_platform(df_actual,'na_sales'), axes[0])\n",
    "axes[0].set_title(\"North America\", weight='bold')\n",
    "\n",
    "plot(proportion_platform(df_actual,'eu_sales'),axes[1])\n",
    "axes[1].set_title(\"Europe\", weight='bold')\n",
    "\n",
    "plot(proportion_platform(df_actual,'jp_sales'),axes[2])\n",
    "axes[2].set_title(\"Japan\", weight='bold')"
   ]
  },
  {
   "cell_type": "markdown",
   "metadata": {},
   "source": [
    "> - In North America and Europe, the same platforms are in the top 5: PS4, PS3, XOne, X360, and 3DS. However, in Japan, only 3DS, PS3, and PS4 are from this list. There are new entries not present in the top of North America and Europe, namely WiiU and PSV.\n",
    "> - In North America, X360 and XOne are leading platforms (60% and 58% respectively), whereas they don't even make it into the top 5 in Japan and are around 32% of all sales in Europe.\n",
    "> - In Europe, PS4 and its predecessor PS3 are the most popular (45% and 37% respectively). In North America, PS4 accounts for 35%, while in Japan it's only 5%.\n",
    "> - In Japan, PSV (56%) and 3DS (47%) are the leading platforms, whereas in other regions, 3DS is one of the least popular. Additionally, PSV is completely absent from the rankings of other regions."
   ]
  },
  {
   "cell_type": "markdown",
   "metadata": {},
   "source": [
    "2. The Most Popular Genres (Top 5):"
   ]
  },
  {
   "cell_type": "code",
   "execution_count": 56,
   "metadata": {
    "scrolled": false
   },
   "outputs": [
    {
     "data": {
      "text/plain": [
       "Text(0.5, 1.0, 'Japan')"
      ]
     },
     "execution_count": 56,
     "metadata": {},
     "output_type": "execute_result"
    },
    {
     "data": {
      "image/png": "[encoded data removed]",
      "text/plain": [
       "<Figure size 1152x504 with 3 Axes>"
      ]
     },
     "metadata": {
      "needs_background": "light"
     },
     "output_type": "display_data"
    }
   ],
   "source": [
    "def proportion_genre(df, region_sales):\n",
    "    regions_genre = df.pivot_table(values=[region_sales,'total_sales'] , index=['genre'], \n",
    "                                                 aggfunc={region_sales: np.sum, 'total_sales': np.sum}).sort_values(region_sales, ascending=False).head(5)\n",
    "    regions_genre['prop'] = ((regions_genre[region_sales] / regions_genre['total_sales'])*100)\n",
    "    \n",
    "    return regions_genre\n",
    "  \n",
    "def plot(table, axes):\n",
    "    ax = table.plot.bar(y='prop', ax=axes, color= ['grey', 'brown', 'green', 'pink', 'orange'])\n",
    "    axes.set_xlabel(\"Genres\")\n",
    "    axes.set_ylabel(\"Share of Total Sales (%)\")\n",
    "    for rect in ax.patches:\n",
    "        ax.text (rect.get_x(),rect.get_height(),\"%.1f%%\"% rect.get_height(), weight='bold')\n",
    "\n",
    "fig, axes = plt.subplots(nrows=1, ncols=3, figsize=(16,7))\n",
    "\n",
    "plot(proportion_genre(df_actual,'na_sales'), axes[0])\n",
    "axes[0].set_title(\"North America\", weight='bold')\n",
    "\n",
    "plot(proportion_genre(df_actual,'eu_sales'),axes[1])\n",
    "axes[1].set_title(\"Europe\", weight='bold')\n",
    "\n",
    "plot(proportion_genre(df_actual,'jp_sales'),axes[2])\n",
    "axes[2].set_title(\"Japan\", weight='bold')"
   ]
  },
  {
   "cell_type": "markdown",
   "metadata": {},
   "source": [
    "> - In North America and Europe, there are mostly the same popular genres. In Japan, only a few genres coincide with the leaders in other regions.\n",
    "> - In North America, all the genres that made it to the top 5 are relatively evenly distributed, with Shooter, Sports, and Misc accounting for over 40% each. Similarly, in Europe, Shooter and Sports are popular, comprising 38% and 40% respectively. However, Shooter is not popular in Japan at all (3%), and Sports is not among the top 5 genres.\n",
    "> - In Europe, Racing is the most popular genre (51%), while it didn't make it into the rankings in other regions.\n",
    "> - In Japan, Role-Playing (35%) and Fighting (22%) are leading genres. Role-Playing is also in the top 5 genres for other regions, but Fighting didn't make it into those rankings."
   ]
  },
  {
   "cell_type": "markdown",
   "metadata": {},
   "source": [
    "### Does the ESRB rating affect sales in a specific region?"
   ]
  },
  {
   "cell_type": "code",
   "execution_count": 57,
   "metadata": {},
   "outputs": [
    {
     "data": {
      "text/plain": [
       "<AxesSubplot:title={'center':'Japan'}, xlabel='rating'>"
      ]
     },
     "execution_count": 57,
     "metadata": {},
     "output_type": "execute_result"
    },
    {
     "data": {
      "image/png": "[encoded data removed]",
      "text/plain": [
       "<Figure size 1080x360 with 3 Axes>"
      ]
     },
     "metadata": {
      "needs_background": "light"
     },
     "output_type": "display_data"
    }
   ],
   "source": [
    "def rating(df, region_sales):\n",
    "    rating_region = df.pivot_table(values=[region_sales,'total_sales'] , index=['rating'], \n",
    "                                                 aggfunc={region_sales: np.sum, 'total_sales': np.sum})   \n",
    "    return rating_region\n",
    "\n",
    "fig, axes = plt.subplots(nrows=1, ncols=3, figsize=(15,5))\n",
    "rating(df_actual,'na_sales').plot(y='na_sales', kind='line', label = 'Sales \\n Dynamics (MM)', grid=True, style='o-', c='green', title='North America', ax=axes[0])\n",
    "\n",
    "rating(df_actual,'eu_sales').plot(y='eu_sales', kind='line', label = 'Sales \\n Dynamics (MM)', grid=True, style='o-', c='orange', title='Europ', ax=axes[1])\n",
    "rating(df_actual,'jp_sales').plot(y='jp_sales', kind='line', label = 'Sales \\n Dynamics (MM)', grid=True, style='o-', c='brown', title='Japan', ax=axes[2])"
   ]
  },
  {
   "cell_type": "markdown",
   "metadata": {},
   "source": [
    "> - The influence of the ESRB rating in Europe and North America is almost identical - games with the \"M\" (\"Mature\") rating, which is intended for adults (17+), cover the majority of sales. These data likely reflect the target audience of computer games in each region. Games aimed at teenagers and children in these regions contribute relatively less to the platforms' revenue.\n",
    "> - In Japan, on the contrary, the \"T\" (\"Teen\") rating increases sales. We can observe on the graph that there are many entries with the \"Unknown\" rating in Japan. This is likely due to the presence of the Computer Entertainment Rating Organization in Japan, which has its own breakdown and naming conventions.\n",
    "\n",
    "> - *ESRB operates only within the territory of North America, while in Japan there is a similar organization known as CERO. I believe that, on one hand, foreign games might not receive ESRB ratings if they already have their own labeling, possibly to avoid conflicts. Hence, it's quite possible that some of the games could be products of Japan or even Korean games (as they have their own organization). On the other hand, since these games are sold in their respective markets, rating assignment could be mandatory. This implies that our dataset might actually be a combination of two tables: sales data from the Western and Eastern markets. In any case, this is a very illustrative example. The notable difference between these markets (Eastern and Western) leads us to consider that the omissions are not random.*\n",
    "\n",
    "Source: https://en.wikipedia.org/wiki/Computer_Entertainment_Rating_Organization"
   ]
  },
  {
   "cell_type": "markdown",
   "metadata": {},
   "source": [
    "<a id=\"step4\"></a>\n",
    "**Conclusion**"
   ]
  },
  {
   "cell_type": "markdown",
   "metadata": {},
   "source": [
    "If we were to outline a rough profile of gamers from different regions, the summaries would be as follows:\n",
    "\n",
    "**North America**:\n",
    "\n",
    "Top 5 platforms: PS4, PS3, XOne, X360, 3DS, with XOne and X360 leading the way. The most popular genres are Shooter, Sports Delivery Type, and Misc, all sharing approximately equal shares of total sales. Consumers from this region tend to purchase games with an \"M\" (17+) rating the most. This category likely includes the key target audience.\n",
    "\n",
    "**Europe**:\n",
    "\n",
    "Consumers from this region show fairly similar preferences to those in North America. Here, the top platforms are also PS4, PS3, XOne, X360, 3DS, with PS4 and PS3 being the leaders. The most popular genres are Shooter, Sports Delivery Type, and Racing. The last genre is unique to Europe. Similar to North America, games with an \"M\" (17+) rating are more popular among European gamers.\n",
    "\n",
    "**Japan**:\n",
    "\n",
    "The preferences of Japanese gamers differ from those of the residents of the two aforementioned regions. New platforms emerge in the top 5: PSV and 3DS, with either being not popular at all (3DS) or absent from the ranking (PSV). Preferred genres include Role-Playing and Fighting. The latter is also absent from the ranking in other regions."
   ]
  },
  {
   "cell_type": "markdown",
   "metadata": {},
   "source": [
    "###  Hypothesis Testing"
   ]
  },
  {
   "cell_type": "code",
   "execution_count": 58,
   "metadata": {},
   "outputs": [],
   "source": [
    "#Since hypothesis testing is based on comparing averages, we need to remove the \"markers\": extra 0 and -1\n",
    "df_actual_no_tbd = df_actual.loc[df_actual['user_score'] != -1]"
   ]
  },
  {
   "cell_type": "code",
   "execution_count": 59,
   "metadata": {},
   "outputs": [],
   "source": [
    "df_actual_filtered = df_actual_no_tbd[df_actual_no_tbd['user_score'] > 0]"
   ]
  },
  {
   "cell_type": "markdown",
   "metadata": {},
   "source": [
    "We need to test several hypotheses about *the equality of means between two different platforms and two different genres*. \n",
    "\n",
    "To apply a t-test, certain conditions are required:\n",
    "\n",
    "**First condition**: Data within subgroups should be normally distributed."
   ]
  },
  {
   "cell_type": "code",
   "execution_count": 60,
   "metadata": {},
   "outputs": [],
   "source": [
    "from scipy import stats"
   ]
  },
  {
   "cell_type": "code",
   "execution_count": 61,
   "metadata": {},
   "outputs": [],
   "source": [
    "def shapiro_test(df):\n",
    "    alpha = 0.05\n",
    "    x,y = stats.shapiro(df['user_score'])\n",
    "    print('p-value:', y)\n",
    "    if (y < alpha):\n",
    "        print(\"We reject the null hypothesis\")\n",
    "    else:\n",
    "        print(\"Failed to reject the null hypothesis\")"
   ]
  },
  {
   "cell_type": "code",
   "execution_count": 62,
   "metadata": {},
   "outputs": [],
   "source": [
    "def var_pr(df1, df2): \n",
    "    x = round(df1.var()/df2.var()*100)\n",
    "    if x >= 5:\n",
    "        return False\n",
    "    else:\n",
    "        return True"
   ]
  },
  {
   "cell_type": "markdown",
   "metadata": {},
   "source": [
    "**2nd condition**: The *variances* of the subgroups should be *homogeneous*."
   ]
  },
  {
   "cell_type": "code",
   "execution_count": 63,
   "metadata": {},
   "outputs": [],
   "source": [
    "def leven_test(df1, df2):\n",
    "    alpha = 0.05\n",
    "    results = stats.levene(df1['user_score'], df2['user_score'])\n",
    "    print('p-value:', results.pvalue)\n",
    "    if (results.pvalue < alpha):\n",
    "        print(\"We reject the null hypothesis\")\n",
    "    else:\n",
    "        print(\"Failed to reject the null hypothesis\")"
   ]
  },
  {
   "cell_type": "markdown",
   "metadata": {},
   "source": [
    "#### Hypothesis 1\n",
    "*The average user ratings of the Xbox One and PC platforms are equal*, where:\n",
    "- H0: the average ratings of the platforms are equal\n",
    "- H1: the average ratings are not equal"
   ]
  },
  {
   "cell_type": "code",
   "execution_count": 64,
   "metadata": {},
   "outputs": [],
   "source": [
    "df_actual_XOne = df_actual_filtered.loc[df_actual_filtered['platform'] == 'XOne']"
   ]
  },
  {
   "cell_type": "code",
   "execution_count": 65,
   "metadata": {},
   "outputs": [],
   "source": [
    "df_actual_PC = df_actual_filtered.loc[df_actual_filtered['platform'] == 'PC']"
   ]
  },
  {
   "cell_type": "markdown",
   "metadata": {},
   "source": [
    "Let's check the distribution of means:\n",
    "* H0 - the data is normally distributed\n",
    "* H1 - the data is not normally distributed"
   ]
  },
  {
   "cell_type": "code",
   "execution_count": 66,
   "metadata": {},
   "outputs": [
    {
     "name": "stdout",
     "output_type": "stream",
     "text": [
      "p-value: 1.5249203897838015e-05\n",
      "We reject the null hypothesis\n"
     ]
    }
   ],
   "source": [
    "shapiro_test(df_actual_XOne)"
   ]
  },
  {
   "cell_type": "code",
   "execution_count": 67,
   "metadata": {},
   "outputs": [
    {
     "data": {
      "text/plain": [
       "False"
      ]
     },
     "execution_count": 67,
     "metadata": {},
     "output_type": "execute_result"
    }
   ],
   "source": [
    "var_pr(df_actual_XOne['user_score'], df_actual_PC['user_score'])"
   ]
  },
  {
   "cell_type": "markdown",
   "metadata": {},
   "source": [
    "According to the criterion, the data is not normally distributed - *do not accept H0*.\n",
    "We compare the averages of *ranking*. This category need not be normally distributed."
   ]
  },
  {
   "cell_type": "markdown",
   "metadata": {},
   "source": [
    "Let's test the hypothesis about the homogeneity of the samples:\n",
    "\n",
    "* H0 - sample variances are equal\n",
    "* H1 - sample variances are not equal"
   ]
  },
  {
   "cell_type": "code",
   "execution_count": 68,
   "metadata": {},
   "outputs": [
    {
     "name": "stdout",
     "output_type": "stream",
     "text": [
      "p-value: 0.003897553110130418\n",
      "We reject the null hypothesis\n"
     ]
    }
   ],
   "source": [
    "leven_test(df_actual_XOne, df_actual_PC)"
   ]
  },
  {
   "cell_type": "markdown",
   "metadata": {},
   "source": [
    "According to the criterion, the variances of the two samples are not equal. The conditions for performing a t-test are not met, so using this test alone will not be sufficient.\n",
    "\n",
    "We also use the nonparametric Mann-Whitney U-test, which is less sensitive to the characteristics of our samples:"
   ]
  },
  {
   "cell_type": "code",
   "execution_count": 69,
   "metadata": {},
   "outputs": [],
   "source": [
    "#T-Test\n",
    "\n",
    "alpha_t_test = 0.05\n",
    "result_t_test = stats.ttest_ind(df_actual_XOne['user_score'], df_actual_PC['user_score'], equal_var = False)"
   ]
  },
  {
   "cell_type": "code",
   "execution_count": 70,
   "metadata": {},
   "outputs": [
    {
     "name": "stdout",
     "output_type": "stream",
     "text": [
      "p-value: 0.14759594013430463\n",
      "Failed to reject the null hypothesis\n"
     ]
    }
   ],
   "source": [
    "print('p-value:', result_t_test.pvalue)\n",
    "\n",
    "if result_t_test.pvalue < alpha_t_test :\n",
    "    print(\"We reject the null hypothesis\")\n",
    "else:\n",
    "    print(\"Failed to reject the null hypothesis\")"
   ]
  },
  {
   "cell_type": "code",
   "execution_count": 71,
   "metadata": {},
   "outputs": [],
   "source": [
    "#U-Test\n",
    "alpha_u_test = 0.05\n",
    "result_u_test = stats.mannwhitneyu(df_actual_XOne['user_score'], df_actual_PC['user_score'])"
   ]
  },
  {
   "cell_type": "code",
   "execution_count": 72,
   "metadata": {},
   "outputs": [
    {
     "name": "stdout",
     "output_type": "stream",
     "text": [
      "p-value: 0.5011006734622374\n",
      "Failed to reject the null hypothesis\n"
     ]
    }
   ],
   "source": [
    "print('p-value:', result_u_test.pvalue)\n",
    "\n",
    "if result_u_test.pvalue < alpha_u_test :\n",
    "    print(\"We reject the null hypothesis\")\n",
    "else:\n",
    "    print(\"Failed to reject the null hypothesis\")"
   ]
  },
  {
   "cell_type": "code",
   "execution_count": 73,
   "metadata": {},
   "outputs": [
    {
     "name": "stdout",
     "output_type": "stream",
     "text": [
      "Median user rating of the XOne platform: 6.8\n",
      "Median user rating of the PC platform: 6.8\n"
     ]
    }
   ],
   "source": [
    "print('Median user rating of the XOne platform:', df_actual_XOne['user_score'].median())\n",
    "print('Median user rating of the PC platform:', df_actual_PC['user_score'].median())"
   ]
  },
  {
   "cell_type": "markdown",
   "metadata": {},
   "source": [
    "**We don't have enough reason to reject the H0 hypothesis that the user ratings of the two platforms are equal.**"
   ]
  },
  {
   "cell_type": "markdown",
   "metadata": {},
   "source": [
    "#### Hypothesis 2\n",
    "*Average user ratings for the Action and Sports genres are different*:\n",
    " - H0: average ratings are equal\n",
    " - H1: average ratings are not equal"
   ]
  },
  {
   "cell_type": "code",
   "execution_count": 74,
   "metadata": {},
   "outputs": [],
   "source": [
    "df_actual_Action = df_actual_filtered.loc[df_actual_filtered['genre'] == 'Action']"
   ]
  },
  {
   "cell_type": "code",
   "execution_count": 75,
   "metadata": {},
   "outputs": [],
   "source": [
    "df_actual_Sports = df_actual_filtered.loc[df_actual_filtered['genre'] == 'Sports']"
   ]
  },
  {
   "cell_type": "markdown",
   "metadata": {},
   "source": [
    "We apply the Shapiro-Wilk criterion:\n",
    "    \n",
    "* H0 - data is normally distributed\n",
    "* H1 - data is not normally distributed"
   ]
  },
  {
   "cell_type": "code",
   "execution_count": 76,
   "metadata": {},
   "outputs": [
    {
     "name": "stdout",
     "output_type": "stream",
     "text": [
      "p-value: 1.0798927229597587e-14\n",
      "We reject the null hypothesis\n"
     ]
    }
   ],
   "source": [
    "shapiro_test(df_actual_Action)"
   ]
  },
  {
   "cell_type": "code",
   "execution_count": 77,
   "metadata": {},
   "outputs": [
    {
     "data": {
      "text/plain": [
       "False"
      ]
     },
     "execution_count": 77,
     "metadata": {},
     "output_type": "execute_result"
    }
   ],
   "source": [
    "var_pr(df_actual_Action['user_score'], df_actual_Sports['user_score'])"
   ]
  },
  {
   "cell_type": "markdown",
   "metadata": {},
   "source": [
    "We apply the Levin criterion:\n",
    "    \n",
    "* H0 - sample variances are equal\n",
    "* H1 - sample variances are not equal"
   ]
  },
  {
   "cell_type": "code",
   "execution_count": 78,
   "metadata": {},
   "outputs": [
    {
     "name": "stdout",
     "output_type": "stream",
     "text": [
      "p-value: 4.2566688218274047e-07\n",
      "We reject the null hypothesis\n"
     ]
    }
   ],
   "source": [
    "leven_test(df_actual_Action, df_actual_Sports)"
   ]
  },
  {
   "cell_type": "markdown",
   "metadata": {},
   "source": [
    "Similarly, we apply the t-test together with the non-parametric Mann-Whitney U-test:"
   ]
  },
  {
   "cell_type": "code",
   "execution_count": 79,
   "metadata": {},
   "outputs": [],
   "source": [
    "#T-Test\n",
    "\n",
    "alpha_t_test2 = 0.05\n",
    "result_t_test2 = stats.ttest_ind(df_actual_Action['user_score'], df_actual_Sports['user_score'], equal_var = False)"
   ]
  },
  {
   "cell_type": "code",
   "execution_count": 80,
   "metadata": {},
   "outputs": [
    {
     "name": "stdout",
     "output_type": "stream",
     "text": [
      "p-value: 1.4460039700704315e-20\n",
      "We reject the null hypothesis\n"
     ]
    }
   ],
   "source": [
    "print('p-value:', result_t_test2.pvalue)\n",
    "\n",
    "if result_t_test2.pvalue < alpha_t_test2 :\n",
    "    print(\"We reject the null hypothesis\")\n",
    "else:\n",
    "    print(\"Failed to reject the null hypothesis\")"
   ]
  },
  {
   "cell_type": "code",
   "execution_count": 81,
   "metadata": {},
   "outputs": [],
   "source": [
    "#U-Test\n",
    "\n",
    "alpha_u_test2 = 0.05\n",
    "result_u_test2 = stats.mannwhitneyu(df_actual_Action['user_score'], df_actual_Sports['user_score'])"
   ]
  },
  {
   "cell_type": "code",
   "execution_count": 82,
   "metadata": {},
   "outputs": [
    {
     "name": "stdout",
     "output_type": "stream",
     "text": [
      "p-value: 1.5189170584819927e-23\n",
      "We reject the null hypothesis\n"
     ]
    }
   ],
   "source": [
    "print('p-value:', result_u_test2.pvalue)\n",
    "\n",
    "if result_u_test2.pvalue < alpha_u_test2 :\n",
    "    print(\"We reject the null hypothesis\")\n",
    "else:\n",
    "    print(\"Failed to reject the null hypothesis\")"
   ]
  },
  {
   "cell_type": "code",
   "execution_count": 83,
   "metadata": {},
   "outputs": [
    {
     "name": "stdout",
     "output_type": "stream",
     "text": [
      "Median User Rating for the Action Genre: 7.1\n",
      "Median User Rating for the Sports Genre: 5.5\n"
     ]
    }
   ],
   "source": [
    "print('Median User Rating for the Action Genre:', df_actual_Action['user_score'].median())\n",
    "print('Median User Rating for the Sports Genre:', df_actual_Sports['user_score'].median())"
   ]
  },
  {
   "cell_type": "markdown",
   "metadata": {},
   "source": [
    "**We also do not have enough reason to reject the H0 hypothesis about the equality of the user ratings of the two genres.**"
   ]
  },
  {
   "cell_type": "markdown",
   "metadata": {},
   "source": [
    "<a id=\"step5\"></a>\n",
    "**Conclusion**"
   ]
  },
  {
   "cell_type": "markdown",
   "metadata": {},
   "source": [
    "We tested several hypotheses:\n",
    "\n",
    "1. The average user ratings of the Xbox One and PC platforms are the same;\n",
    "2. The average user ratings of the genres Action and Sports are different.\n",
    "\n",
    "\n",
    "In the first case, we could not reject H0 about the equality of the average XOne and PC platforms. However, the averages for Action and Sports games turned out to be different - we reject the H0 hypothesis."
   ]
  },
  {
   "cell_type": "markdown",
   "metadata": {},
   "source": [
    "##  General Conclusion"
   ]
  },
  {
   "cell_type": "markdown",
   "metadata": {},
   "source": [
    "We analyzed the data for the period from 2013 to 2016. This period was chosen not by chance: looking at the graph of platforms with games released on them and total revenue, we noticed that by 2013, many platforms had stopped releasing games. Additionally, in 2013, two other platforms emerged that sold the highest number of copies. We also established an approximate \"lifespan\" of a platform - from the release of the first game to the release of the last one - up to 5 years.\n",
    "\n",
    "Having the relevant timeframe, we identified the top five platforms that not only sold the most games throughout the period but also remained relatively stable in sales: 'PS4', '3DS', 'XOne', 'WiiU', 'PC'.\n",
    "\n",
    "We found that critic scores are correlated with sales growth, both for the leading platform in terms of copies sold – PS4, and for the other platforms in the top 5. As for user scores, they hardly influence sales on PS4 and other platforms. We also discovered that the most common genres are not necessarily the best-selling ones.\n",
    "\n",
    "We created an approximate consumer profile based on the most popular sales categories in different regions:\n",
    "\n",
    "*North America*:\n",
    "- Platforms: X360 and XOne;\n",
    "- Genres: Shooter, Misc, Sports;\n",
    "- Rating: \"M\" (\"Mature\") — for adults (17+).\n",
    "\n",
    "*Europe*:\n",
    "- Platforms: PS4 and PS3;\n",
    "- Genres: Racing and Sports;\n",
    "- Rating: \"M\" (\"Mature\") — for adults (17+).\n",
    "\n",
    "*Japan*:\n",
    "- Platforms: PS4 and PS3;\n",
    "- Genres: Role-Playing and Fighting;\n",
    "- Rating: \"T\" (\"Teen\") — for teens (13+).\n",
    "\n",
    "*However, when considering potentially profitable platforms and genres for all regions, the following can be highlighted*:\n",
    "- Platforms: PS4/PS3 and 3DS;\n",
    "- Genres: Action and Role-Playing.\n",
    "\n",
    "Finally, we tested several hypotheses to understand how user ratings can vary. To do this, we took several platforms and genres with different levels of copies sold. As a result, we found that the average user scores for the PC and XOne platforms were equal. Regarding genres, the difference in average ratings between Action and Sports games turned out to be statistically significant.\n",
    "\n",
    "Therefore, for the development of future marketing strategy, it's advisable for a potential client to pay attention to platforms with high critic ratings, the regional preferences, and also focus on genres popular among users, such as Role-Playing and Action."
   ]
  }
 ],
 "metadata": {
  "ExecuteTimeLog": [
   {
    "duration": 1490,
    "start_time": "2023-08-28T16:04:46.421Z"
   },
   {
    "duration": 112,
    "start_time": "2023-08-28T16:04:47.913Z"
   },
   {
    "duration": 15,
    "start_time": "2023-08-28T16:04:48.027Z"
   },
   {
    "duration": 65,
    "start_time": "2023-08-28T16:04:48.045Z"
   },
   {
    "duration": 4,
    "start_time": "2023-08-28T16:04:48.111Z"
   },
   {
    "duration": 7,
    "start_time": "2023-08-28T16:04:48.117Z"
   },
   {
    "duration": 5,
    "start_time": "2023-08-28T16:04:48.126Z"
   },
   {
    "duration": 7,
    "start_time": "2023-08-28T16:04:48.132Z"
   },
   {
    "duration": 42,
    "start_time": "2023-08-28T16:04:48.141Z"
   },
   {
    "duration": 9,
    "start_time": "2023-08-28T16:04:48.188Z"
   },
   {
    "duration": 13,
    "start_time": "2023-08-28T16:04:48.199Z"
   },
   {
    "duration": 17,
    "start_time": "2023-08-28T16:04:48.214Z"
   },
   {
    "duration": 9,
    "start_time": "2023-08-28T16:04:48.233Z"
   },
   {
    "duration": 6,
    "start_time": "2023-08-28T16:04:48.244Z"
   },
   {
    "duration": 15,
    "start_time": "2023-08-28T16:04:48.252Z"
   },
   {
    "duration": 7,
    "start_time": "2023-08-28T16:04:48.280Z"
   },
   {
    "duration": 36,
    "start_time": "2023-08-28T16:04:48.289Z"
   },
   {
    "duration": 33,
    "start_time": "2023-08-28T16:04:48.328Z"
   },
   {
    "duration": 5,
    "start_time": "2023-08-28T16:04:48.362Z"
   },
   {
    "duration": 8,
    "start_time": "2023-08-28T16:04:48.368Z"
   },
   {
    "duration": 24,
    "start_time": "2023-08-28T16:04:48.378Z"
   },
   {
    "duration": 13,
    "start_time": "2023-08-28T16:04:48.403Z"
   },
   {
    "duration": 30,
    "start_time": "2023-08-28T16:04:48.417Z"
   },
   {
    "duration": 24,
    "start_time": "2023-08-28T16:04:48.448Z"
   },
   {
    "duration": 5,
    "start_time": "2023-08-28T16:04:48.474Z"
   },
   {
    "duration": 384,
    "start_time": "2023-08-28T16:04:48.481Z"
   },
   {
    "duration": 19,
    "start_time": "2023-08-28T16:04:48.868Z"
   },
   {
    "duration": 5,
    "start_time": "2023-08-28T16:04:48.892Z"
   },
   {
    "duration": 11,
    "start_time": "2023-08-28T16:04:48.898Z"
   },
   {
    "duration": 14,
    "start_time": "2023-08-28T16:04:48.911Z"
   },
   {
    "duration": 465,
    "start_time": "2023-08-28T16:04:48.927Z"
   },
   {
    "duration": 24,
    "start_time": "2023-08-28T16:04:49.394Z"
   },
   {
    "duration": 5,
    "start_time": "2023-08-28T16:04:49.420Z"
   },
   {
    "duration": 9,
    "start_time": "2023-08-28T16:04:49.426Z"
   },
   {
    "duration": 14,
    "start_time": "2023-08-28T16:04:49.437Z"
   },
   {
    "duration": 403,
    "start_time": "2023-08-28T16:04:49.452Z"
   },
   {
    "duration": 4,
    "start_time": "2023-08-28T16:04:49.857Z"
   },
   {
    "duration": 295,
    "start_time": "2023-08-28T16:04:49.862Z"
   },
   {
    "duration": 3,
    "start_time": "2023-08-28T16:04:50.159Z"
   },
   {
    "duration": 45,
    "start_time": "2023-08-28T16:04:50.164Z"
   },
   {
    "duration": 43,
    "start_time": "2023-08-28T16:04:50.211Z"
   },
   {
    "duration": 337,
    "start_time": "2023-08-28T16:04:50.256Z"
   },
   {
    "duration": 3,
    "start_time": "2023-08-28T16:04:50.595Z"
   },
   {
    "duration": 22,
    "start_time": "2023-08-28T16:04:50.599Z"
   },
   {
    "duration": 11,
    "start_time": "2023-08-28T16:04:50.622Z"
   },
   {
    "duration": 5,
    "start_time": "2023-08-28T16:04:50.634Z"
   },
   {
    "duration": 298,
    "start_time": "2023-08-28T16:04:50.640Z"
   },
   {
    "duration": 4,
    "start_time": "2023-08-28T16:04:50.939Z"
   },
   {
    "duration": 12,
    "start_time": "2023-08-28T16:04:50.945Z"
   },
   {
    "duration": 30,
    "start_time": "2023-08-28T16:04:50.959Z"
   },
   {
    "duration": 305,
    "start_time": "2023-08-28T16:04:50.991Z"
   },
   {
    "duration": 6,
    "start_time": "2023-08-28T16:04:51.297Z"
   },
   {
    "duration": 24,
    "start_time": "2023-08-28T16:04:51.304Z"
   },
   {
    "duration": 38,
    "start_time": "2023-08-28T16:04:51.330Z"
   },
   {
    "duration": 460,
    "start_time": "2023-08-28T16:04:51.369Z"
   },
   {
    "duration": 465,
    "start_time": "2023-08-28T16:04:51.830Z"
   },
   {
    "duration": 408,
    "start_time": "2023-08-28T16:04:52.297Z"
   },
   {
    "duration": 5,
    "start_time": "2023-08-28T16:04:52.707Z"
   },
   {
    "duration": 26,
    "start_time": "2023-08-28T16:04:52.713Z"
   },
   {
    "duration": 16,
    "start_time": "2023-08-28T16:04:52.741Z"
   },
   {
    "duration": 39,
    "start_time": "2023-08-28T16:04:52.759Z"
   },
   {
    "duration": 10,
    "start_time": "2023-08-28T16:04:52.800Z"
   },
   {
    "duration": 16,
    "start_time": "2023-08-28T16:04:52.812Z"
   },
   {
    "duration": 34,
    "start_time": "2023-08-28T16:04:52.830Z"
   },
   {
    "duration": 23,
    "start_time": "2023-08-28T16:04:52.866Z"
   },
   {
    "duration": 27,
    "start_time": "2023-08-28T16:04:52.891Z"
   },
   {
    "duration": 8,
    "start_time": "2023-08-28T16:04:52.920Z"
   },
   {
    "duration": 20,
    "start_time": "2023-08-28T16:04:52.930Z"
   },
   {
    "duration": 13,
    "start_time": "2023-08-28T16:04:52.952Z"
   },
   {
    "duration": 13,
    "start_time": "2023-08-28T16:04:52.967Z"
   },
   {
    "duration": 15,
    "start_time": "2023-08-28T16:04:52.982Z"
   },
   {
    "duration": 19,
    "start_time": "2023-08-28T16:04:52.998Z"
   },
   {
    "duration": 9,
    "start_time": "2023-08-28T16:04:53.018Z"
   },
   {
    "duration": 5,
    "start_time": "2023-08-28T16:04:53.029Z"
   },
   {
    "duration": 5,
    "start_time": "2023-08-28T16:04:53.036Z"
   },
   {
    "duration": 25,
    "start_time": "2023-08-28T16:04:53.043Z"
   },
   {
    "duration": 13,
    "start_time": "2023-08-28T16:04:53.070Z"
   },
   {
    "duration": 11,
    "start_time": "2023-08-28T16:04:53.084Z"
   },
   {
    "duration": 14,
    "start_time": "2023-08-28T16:04:53.097Z"
   },
   {
    "duration": 10,
    "start_time": "2023-08-28T16:04:53.113Z"
   },
   {
    "duration": 6,
    "start_time": "2023-08-28T16:04:53.125Z"
   },
   {
    "duration": 20,
    "start_time": "2023-08-28T16:04:53.136Z"
   },
   {
    "duration": 13,
    "start_time": "2023-08-28T16:04:53.157Z"
   },
   {
    "duration": 281,
    "start_time": "2023-08-28T16:18:06.853Z"
   },
   {
    "duration": 3,
    "start_time": "2023-08-28T16:23:56.479Z"
   },
   {
    "duration": 76,
    "start_time": "2023-08-28T16:23:56.485Z"
   },
   {
    "duration": 16,
    "start_time": "2023-08-28T16:23:56.563Z"
   },
   {
    "duration": 28,
    "start_time": "2023-08-28T16:23:56.582Z"
   },
   {
    "duration": 7,
    "start_time": "2023-08-28T16:23:56.613Z"
   },
   {
    "duration": 29,
    "start_time": "2023-08-28T16:23:56.622Z"
   },
   {
    "duration": 22,
    "start_time": "2023-08-28T16:23:56.653Z"
   },
   {
    "duration": 14,
    "start_time": "2023-08-28T16:23:56.677Z"
   },
   {
    "duration": 27,
    "start_time": "2023-08-28T16:23:56.693Z"
   },
   {
    "duration": 20,
    "start_time": "2023-08-28T16:23:56.722Z"
   },
   {
    "duration": 9,
    "start_time": "2023-08-28T16:23:56.863Z"
   },
   {
    "duration": 12,
    "start_time": "2023-08-28T16:23:56.874Z"
   },
   {
    "duration": 8,
    "start_time": "2023-08-28T16:23:56.889Z"
   },
   {
    "duration": 7,
    "start_time": "2023-08-28T16:23:56.899Z"
   },
   {
    "duration": 14,
    "start_time": "2023-08-28T16:23:56.908Z"
   },
   {
    "duration": 34,
    "start_time": "2023-08-28T16:23:56.924Z"
   },
   {
    "duration": 67,
    "start_time": "2023-08-28T16:23:56.962Z"
   },
   {
    "duration": 27,
    "start_time": "2023-08-28T16:23:57.031Z"
   },
   {
    "duration": 16,
    "start_time": "2023-08-28T16:23:57.060Z"
   },
   {
    "duration": 11,
    "start_time": "2023-08-28T16:23:57.078Z"
   },
   {
    "duration": 29,
    "start_time": "2023-08-28T16:23:57.092Z"
   },
   {
    "duration": 9,
    "start_time": "2023-08-28T16:23:57.124Z"
   },
   {
    "duration": 19,
    "start_time": "2023-08-28T16:23:57.135Z"
   },
   {
    "duration": 30,
    "start_time": "2023-08-28T16:23:57.156Z"
   },
   {
    "duration": 6,
    "start_time": "2023-08-28T16:23:57.189Z"
   },
   {
    "duration": 345,
    "start_time": "2023-08-28T16:23:57.197Z"
   },
   {
    "duration": 17,
    "start_time": "2023-08-28T16:23:57.544Z"
   },
   {
    "duration": 19,
    "start_time": "2023-08-28T16:23:57.563Z"
   },
   {
    "duration": 7,
    "start_time": "2023-08-28T16:23:57.586Z"
   },
   {
    "duration": 14,
    "start_time": "2023-08-28T16:23:57.594Z"
   },
   {
    "duration": 445,
    "start_time": "2023-08-28T16:23:57.610Z"
   },
   {
    "duration": 33,
    "start_time": "2023-08-28T16:23:58.057Z"
   },
   {
    "duration": 5,
    "start_time": "2023-08-28T16:23:58.091Z"
   },
   {
    "duration": 8,
    "start_time": "2023-08-28T16:23:58.097Z"
   },
   {
    "duration": 9,
    "start_time": "2023-08-28T16:23:58.106Z"
   },
   {
    "duration": 344,
    "start_time": "2023-08-28T16:23:58.117Z"
   },
   {
    "duration": 4,
    "start_time": "2023-08-28T16:23:58.463Z"
   },
   {
    "duration": 289,
    "start_time": "2023-08-28T16:23:58.469Z"
   },
   {
    "duration": 4,
    "start_time": "2023-08-28T16:23:58.760Z"
   },
   {
    "duration": 16,
    "start_time": "2023-08-28T16:23:58.765Z"
   },
   {
    "duration": 45,
    "start_time": "2023-08-28T16:23:58.782Z"
   },
   {
    "duration": 252,
    "start_time": "2023-08-28T16:23:58.829Z"
   },
   {
    "duration": 3,
    "start_time": "2023-08-28T16:23:59.082Z"
   },
   {
    "duration": 17,
    "start_time": "2023-08-28T16:23:59.086Z"
   },
   {
    "duration": 18,
    "start_time": "2023-08-28T16:23:59.104Z"
   },
   {
    "duration": 15,
    "start_time": "2023-08-28T16:23:59.123Z"
   },
   {
    "duration": 306,
    "start_time": "2023-08-28T16:23:59.140Z"
   },
   {
    "duration": 4,
    "start_time": "2023-08-28T16:23:59.448Z"
   },
   {
    "duration": 16,
    "start_time": "2023-08-28T16:23:59.453Z"
   },
   {
    "duration": 24,
    "start_time": "2023-08-28T16:23:59.471Z"
   },
   {
    "duration": 272,
    "start_time": "2023-08-28T16:23:59.497Z"
   },
   {
    "duration": 5,
    "start_time": "2023-08-28T16:23:59.770Z"
   },
   {
    "duration": 78,
    "start_time": "2023-08-28T16:23:59.781Z"
   },
   {
    "duration": 37,
    "start_time": "2023-08-28T16:23:59.861Z"
   },
   {
    "duration": 581,
    "start_time": "2023-08-28T16:23:59.900Z"
   },
   {
    "duration": 472,
    "start_time": "2023-08-28T16:24:00.482Z"
   },
   {
    "duration": 404,
    "start_time": "2023-08-28T16:24:00.956Z"
   },
   {
    "duration": 5,
    "start_time": "2023-08-28T16:24:01.362Z"
   },
   {
    "duration": 56,
    "start_time": "2023-08-28T16:24:01.368Z"
   },
   {
    "duration": 88,
    "start_time": "2023-08-28T16:24:01.426Z"
   },
   {
    "duration": 101,
    "start_time": "2023-08-28T16:24:01.515Z"
   },
   {
    "duration": 66,
    "start_time": "2023-08-28T16:24:01.618Z"
   },
   {
    "duration": 55,
    "start_time": "2023-08-28T16:24:01.686Z"
   },
   {
    "duration": 44,
    "start_time": "2023-08-28T16:24:01.743Z"
   },
   {
    "duration": 104,
    "start_time": "2023-08-28T16:24:01.788Z"
   },
   {
    "duration": 52,
    "start_time": "2023-08-28T16:24:01.894Z"
   },
   {
    "duration": 60,
    "start_time": "2023-08-28T16:24:01.948Z"
   },
   {
    "duration": 56,
    "start_time": "2023-08-28T16:24:02.009Z"
   },
   {
    "duration": 43,
    "start_time": "2023-08-28T16:24:02.066Z"
   },
   {
    "duration": 46,
    "start_time": "2023-08-28T16:24:02.110Z"
   },
   {
    "duration": 34,
    "start_time": "2023-08-28T16:24:02.158Z"
   },
   {
    "duration": 41,
    "start_time": "2023-08-28T16:24:02.193Z"
   },
   {
    "duration": 84,
    "start_time": "2023-08-28T16:24:02.236Z"
   },
   {
    "duration": 32,
    "start_time": "2023-08-28T16:24:02.321Z"
   },
   {
    "duration": 31,
    "start_time": "2023-08-28T16:24:02.354Z"
   },
   {
    "duration": 94,
    "start_time": "2023-08-28T16:24:02.387Z"
   },
   {
    "duration": 196,
    "start_time": "2023-08-28T16:24:02.482Z"
   },
   {
    "duration": 178,
    "start_time": "2023-08-28T16:24:02.679Z"
   },
   {
    "duration": 36,
    "start_time": "2023-08-28T16:24:02.858Z"
   },
   {
    "duration": 22,
    "start_time": "2023-08-28T16:24:02.896Z"
   },
   {
    "duration": 21,
    "start_time": "2023-08-28T16:24:02.920Z"
   },
   {
    "duration": 25,
    "start_time": "2023-08-28T16:24:02.943Z"
   },
   {
    "duration": 32,
    "start_time": "2023-08-28T16:24:02.973Z"
   },
   {
    "duration": 437,
    "start_time": "2023-08-28T16:40:21.897Z"
   },
   {
    "duration": 374,
    "start_time": "2023-08-28T16:46:31.305Z"
   },
   {
    "duration": 394,
    "start_time": "2023-08-28T16:46:37.817Z"
   },
   {
    "duration": 557,
    "start_time": "2023-08-28T16:46:49.535Z"
   },
   {
    "duration": 405,
    "start_time": "2023-08-28T16:47:55.955Z"
   },
   {
    "duration": 404,
    "start_time": "2023-08-28T16:48:05.254Z"
   },
   {
    "duration": 3,
    "start_time": "2023-08-28T16:52:55.892Z"
   },
   {
    "duration": 3,
    "start_time": "2023-08-28T16:53:00.031Z"
   },
   {
    "duration": 3,
    "start_time": "2023-08-28T16:54:05.845Z"
   },
   {
    "duration": 166,
    "start_time": "2023-08-28T16:54:05.850Z"
   },
   {
    "duration": 16,
    "start_time": "2023-08-28T16:54:06.018Z"
   },
   {
    "duration": 19,
    "start_time": "2023-08-28T16:54:06.036Z"
   },
   {
    "duration": 25,
    "start_time": "2023-08-28T16:54:06.057Z"
   },
   {
    "duration": 16,
    "start_time": "2023-08-28T16:54:06.084Z"
   },
   {
    "duration": 4,
    "start_time": "2023-08-28T16:54:06.101Z"
   },
   {
    "duration": 15,
    "start_time": "2023-08-28T16:54:06.107Z"
   },
   {
    "duration": 15,
    "start_time": "2023-08-28T16:54:06.124Z"
   },
   {
    "duration": 7,
    "start_time": "2023-08-28T16:54:06.141Z"
   },
   {
    "duration": 6,
    "start_time": "2023-08-28T16:54:06.150Z"
   },
   {
    "duration": 24,
    "start_time": "2023-08-28T16:54:06.158Z"
   },
   {
    "duration": 7,
    "start_time": "2023-08-28T16:54:06.184Z"
   },
   {
    "duration": 6,
    "start_time": "2023-08-28T16:54:06.193Z"
   },
   {
    "duration": 10,
    "start_time": "2023-08-28T16:54:06.200Z"
   },
   {
    "duration": 7,
    "start_time": "2023-08-28T16:54:06.212Z"
   },
   {
    "duration": 6,
    "start_time": "2023-08-28T16:54:06.220Z"
   },
   {
    "duration": 20,
    "start_time": "2023-08-28T16:54:06.228Z"
   },
   {
    "duration": 36,
    "start_time": "2023-08-28T16:54:06.249Z"
   },
   {
    "duration": 8,
    "start_time": "2023-08-28T16:54:06.288Z"
   },
   {
    "duration": 22,
    "start_time": "2023-08-28T16:54:06.298Z"
   },
   {
    "duration": 4,
    "start_time": "2023-08-28T16:54:06.322Z"
   },
   {
    "duration": 26,
    "start_time": "2023-08-28T16:54:06.328Z"
   },
   {
    "duration": 26,
    "start_time": "2023-08-28T16:54:06.380Z"
   },
   {
    "duration": 5,
    "start_time": "2023-08-28T16:54:06.408Z"
   },
   {
    "duration": 339,
    "start_time": "2023-08-28T16:54:06.414Z"
   },
   {
    "duration": 31,
    "start_time": "2023-08-28T16:54:06.756Z"
   },
   {
    "duration": 5,
    "start_time": "2023-08-28T16:54:06.790Z"
   },
   {
    "duration": 12,
    "start_time": "2023-08-28T16:54:06.800Z"
   },
   {
    "duration": 22,
    "start_time": "2023-08-28T16:54:06.814Z"
   },
   {
    "duration": 485,
    "start_time": "2023-08-28T16:54:06.838Z"
   },
   {
    "duration": 24,
    "start_time": "2023-08-28T16:54:07.326Z"
   },
   {
    "duration": 4,
    "start_time": "2023-08-28T16:54:07.351Z"
   },
   {
    "duration": 8,
    "start_time": "2023-08-28T16:54:07.357Z"
   },
   {
    "duration": 5,
    "start_time": "2023-08-28T16:54:07.381Z"
   },
   {
    "duration": 352,
    "start_time": "2023-08-28T16:54:07.388Z"
   },
   {
    "duration": 4,
    "start_time": "2023-08-28T16:54:07.742Z"
   },
   {
    "duration": 297,
    "start_time": "2023-08-28T16:54:07.747Z"
   },
   {
    "duration": 3,
    "start_time": "2023-08-28T16:54:08.046Z"
   },
   {
    "duration": 7,
    "start_time": "2023-08-28T16:54:08.051Z"
   },
   {
    "duration": 32,
    "start_time": "2023-08-28T16:54:08.060Z"
   },
   {
    "duration": 265,
    "start_time": "2023-08-28T16:54:08.094Z"
   },
   {
    "duration": 3,
    "start_time": "2023-08-28T16:54:08.361Z"
   },
   {
    "duration": 18,
    "start_time": "2023-08-28T16:54:08.365Z"
   },
   {
    "duration": 5,
    "start_time": "2023-08-28T16:54:08.385Z"
   },
   {
    "duration": 5,
    "start_time": "2023-08-28T16:54:08.392Z"
   },
   {
    "duration": 283,
    "start_time": "2023-08-28T16:54:08.398Z"
   },
   {
    "duration": 4,
    "start_time": "2023-08-28T16:54:08.683Z"
   },
   {
    "duration": 24,
    "start_time": "2023-08-28T16:54:08.688Z"
   },
   {
    "duration": 18,
    "start_time": "2023-08-28T16:54:08.714Z"
   },
   {
    "duration": 266,
    "start_time": "2023-08-28T16:54:08.734Z"
   },
   {
    "duration": 7,
    "start_time": "2023-08-28T16:54:09.002Z"
   },
   {
    "duration": 5,
    "start_time": "2023-08-28T16:54:09.011Z"
   },
   {
    "duration": 18,
    "start_time": "2023-08-28T16:54:09.018Z"
   },
   {
    "duration": 685,
    "start_time": "2023-08-28T16:54:09.038Z"
   },
   {
    "duration": 457,
    "start_time": "2023-08-28T16:54:09.725Z"
   },
   {
    "duration": 402,
    "start_time": "2023-08-28T16:54:10.184Z"
   },
   {
    "duration": 6,
    "start_time": "2023-08-28T16:54:10.588Z"
   },
   {
    "duration": 32,
    "start_time": "2023-08-28T16:54:10.595Z"
   },
   {
    "duration": 10,
    "start_time": "2023-08-28T16:54:10.629Z"
   },
   {
    "duration": 20,
    "start_time": "2023-08-28T16:54:10.641Z"
   },
   {
    "duration": 21,
    "start_time": "2023-08-28T16:54:10.663Z"
   },
   {
    "duration": 93,
    "start_time": "2023-08-28T16:54:10.686Z"
   },
   {
    "duration": 30,
    "start_time": "2023-08-28T16:54:10.781Z"
   },
   {
    "duration": 35,
    "start_time": "2023-08-28T16:54:10.812Z"
   },
   {
    "duration": 25,
    "start_time": "2023-08-28T16:54:10.849Z"
   },
   {
    "duration": 35,
    "start_time": "2023-08-28T16:54:10.876Z"
   },
   {
    "duration": 28,
    "start_time": "2023-08-28T16:54:10.913Z"
   },
   {
    "duration": 22,
    "start_time": "2023-08-28T16:54:10.943Z"
   },
   {
    "duration": 27,
    "start_time": "2023-08-28T16:54:10.967Z"
   },
   {
    "duration": 41,
    "start_time": "2023-08-28T16:54:10.995Z"
   },
   {
    "duration": 42,
    "start_time": "2023-08-28T16:54:11.039Z"
   },
   {
    "duration": 52,
    "start_time": "2023-08-28T16:54:11.083Z"
   },
   {
    "duration": 24,
    "start_time": "2023-08-28T16:54:11.137Z"
   },
   {
    "duration": 59,
    "start_time": "2023-08-28T16:54:11.163Z"
   },
   {
    "duration": 173,
    "start_time": "2023-08-28T16:54:11.224Z"
   },
   {
    "duration": 8,
    "start_time": "2023-08-28T16:54:11.399Z"
   },
   {
    "duration": 11,
    "start_time": "2023-08-28T16:54:11.408Z"
   },
   {
    "duration": 6,
    "start_time": "2023-08-28T16:54:11.420Z"
   },
   {
    "duration": 6,
    "start_time": "2023-08-28T16:54:11.427Z"
   },
   {
    "duration": 7,
    "start_time": "2023-08-28T16:54:11.434Z"
   },
   {
    "duration": 6,
    "start_time": "2023-08-28T16:54:11.443Z"
   },
   {
    "duration": 8,
    "start_time": "2023-08-28T16:54:11.455Z"
   },
   {
    "duration": 1415,
    "start_time": "2023-08-29T09:55:26.172Z"
   },
   {
    "duration": 123,
    "start_time": "2023-08-29T09:55:27.590Z"
   },
   {
    "duration": 16,
    "start_time": "2023-08-29T09:55:27.715Z"
   },
   {
    "duration": 63,
    "start_time": "2023-08-29T09:55:27.733Z"
   },
   {
    "duration": 3,
    "start_time": "2023-08-29T09:55:27.798Z"
   },
   {
    "duration": 39,
    "start_time": "2023-08-29T09:55:27.803Z"
   },
   {
    "duration": 14,
    "start_time": "2023-08-29T09:55:27.843Z"
   },
   {
    "duration": 38,
    "start_time": "2023-08-29T09:55:27.858Z"
   },
   {
    "duration": 22,
    "start_time": "2023-08-29T09:55:27.897Z"
   },
   {
    "duration": 22,
    "start_time": "2023-08-29T09:55:27.922Z"
   },
   {
    "duration": 31,
    "start_time": "2023-08-29T09:55:27.946Z"
   },
   {
    "duration": 14,
    "start_time": "2023-08-29T09:55:27.979Z"
   },
   {
    "duration": 12,
    "start_time": "2023-08-29T09:55:27.995Z"
   },
   {
    "duration": 7,
    "start_time": "2023-08-29T09:55:28.009Z"
   },
   {
    "duration": 11,
    "start_time": "2023-08-29T09:55:28.018Z"
   },
   {
    "duration": 32,
    "start_time": "2023-08-29T09:55:28.031Z"
   },
   {
    "duration": 30,
    "start_time": "2023-08-29T09:55:28.065Z"
   },
   {
    "duration": 50,
    "start_time": "2023-08-29T09:55:28.097Z"
   },
   {
    "duration": 8,
    "start_time": "2023-08-29T09:55:28.148Z"
   },
   {
    "duration": 20,
    "start_time": "2023-08-29T09:55:28.158Z"
   },
   {
    "duration": 36,
    "start_time": "2023-08-29T09:55:28.179Z"
   },
   {
    "duration": 16,
    "start_time": "2023-08-29T09:55:28.216Z"
   },
   {
    "duration": 47,
    "start_time": "2023-08-29T09:55:28.234Z"
   },
   {
    "duration": 21,
    "start_time": "2023-08-29T09:55:28.282Z"
   },
   {
    "duration": 14,
    "start_time": "2023-08-29T09:55:28.304Z"
   },
   {
    "duration": 369,
    "start_time": "2023-08-29T09:55:28.320Z"
   },
   {
    "duration": 29,
    "start_time": "2023-08-29T09:55:28.692Z"
   },
   {
    "duration": 5,
    "start_time": "2023-08-29T09:55:28.729Z"
   },
   {
    "duration": 37,
    "start_time": "2023-08-29T09:55:28.736Z"
   },
   {
    "duration": 15,
    "start_time": "2023-08-29T09:55:28.776Z"
   },
   {
    "duration": 482,
    "start_time": "2023-08-29T09:55:28.793Z"
   },
   {
    "duration": 25,
    "start_time": "2023-08-29T09:55:29.277Z"
   },
   {
    "duration": 73,
    "start_time": "2023-08-29T09:55:29.304Z"
   },
   {
    "duration": 38,
    "start_time": "2023-08-29T09:55:29.379Z"
   },
   {
    "duration": 46,
    "start_time": "2023-08-29T09:55:29.419Z"
   },
   {
    "duration": 408,
    "start_time": "2023-08-29T09:55:29.467Z"
   },
   {
    "duration": 5,
    "start_time": "2023-08-29T09:55:29.876Z"
   },
   {
    "duration": 334,
    "start_time": "2023-08-29T09:55:29.883Z"
   },
   {
    "duration": 4,
    "start_time": "2023-08-29T09:55:30.219Z"
   },
   {
    "duration": 143,
    "start_time": "2023-08-29T09:55:30.225Z"
   },
   {
    "duration": 151,
    "start_time": "2023-08-29T09:55:30.370Z"
   },
   {
    "duration": 343,
    "start_time": "2023-08-29T09:55:30.523Z"
   },
   {
    "duration": 3,
    "start_time": "2023-08-29T09:55:30.868Z"
   },
   {
    "duration": 56,
    "start_time": "2023-08-29T09:55:30.872Z"
   },
   {
    "duration": 51,
    "start_time": "2023-08-29T09:55:30.930Z"
   },
   {
    "duration": 43,
    "start_time": "2023-08-29T09:55:30.983Z"
   },
   {
    "duration": 335,
    "start_time": "2023-08-29T09:55:31.028Z"
   },
   {
    "duration": 4,
    "start_time": "2023-08-29T09:55:31.365Z"
   },
   {
    "duration": 53,
    "start_time": "2023-08-29T09:55:31.370Z"
   },
   {
    "duration": 162,
    "start_time": "2023-08-29T09:55:31.424Z"
   },
   {
    "duration": 470,
    "start_time": "2023-08-29T09:55:31.589Z"
   },
   {
    "duration": 6,
    "start_time": "2023-08-29T09:55:32.061Z"
   },
   {
    "duration": 36,
    "start_time": "2023-08-29T09:55:32.068Z"
   },
   {
    "duration": 51,
    "start_time": "2023-08-29T09:55:32.106Z"
   },
   {
    "duration": 518,
    "start_time": "2023-08-29T09:55:32.161Z"
   },
   {
    "duration": 485,
    "start_time": "2023-08-29T09:55:32.682Z"
   },
   {
    "duration": 415,
    "start_time": "2023-08-29T09:55:33.169Z"
   },
   {
    "duration": 4,
    "start_time": "2023-08-29T09:55:33.586Z"
   },
   {
    "duration": 171,
    "start_time": "2023-08-29T09:55:33.592Z"
   },
   {
    "duration": 15,
    "start_time": "2023-08-29T09:55:33.766Z"
   },
   {
    "duration": 10,
    "start_time": "2023-08-29T09:55:33.783Z"
   },
   {
    "duration": 5,
    "start_time": "2023-08-29T09:55:33.796Z"
   },
   {
    "duration": 5,
    "start_time": "2023-08-29T09:55:33.803Z"
   },
   {
    "duration": 8,
    "start_time": "2023-08-29T09:55:33.810Z"
   },
   {
    "duration": 14,
    "start_time": "2023-08-29T09:55:33.820Z"
   },
   {
    "duration": 22,
    "start_time": "2023-08-29T09:55:33.836Z"
   },
   {
    "duration": 10,
    "start_time": "2023-08-29T09:55:33.860Z"
   },
   {
    "duration": 6,
    "start_time": "2023-08-29T09:55:33.872Z"
   },
   {
    "duration": 11,
    "start_time": "2023-08-29T09:55:33.880Z"
   },
   {
    "duration": 8,
    "start_time": "2023-08-29T09:55:33.893Z"
   },
   {
    "duration": 0,
    "start_time": "2023-08-29T09:55:33.902Z"
   },
   {
    "duration": 0,
    "start_time": "2023-08-29T09:55:33.903Z"
   },
   {
    "duration": 0,
    "start_time": "2023-08-29T09:55:33.905Z"
   },
   {
    "duration": 0,
    "start_time": "2023-08-29T09:55:33.906Z"
   },
   {
    "duration": 0,
    "start_time": "2023-08-29T09:55:33.907Z"
   },
   {
    "duration": 0,
    "start_time": "2023-08-29T09:55:33.908Z"
   },
   {
    "duration": 0,
    "start_time": "2023-08-29T09:55:33.909Z"
   },
   {
    "duration": 0,
    "start_time": "2023-08-29T09:55:33.910Z"
   },
   {
    "duration": 0,
    "start_time": "2023-08-29T09:55:33.912Z"
   },
   {
    "duration": 0,
    "start_time": "2023-08-29T09:55:33.913Z"
   },
   {
    "duration": 0,
    "start_time": "2023-08-29T09:55:33.915Z"
   },
   {
    "duration": 0,
    "start_time": "2023-08-29T09:55:33.916Z"
   },
   {
    "duration": 0,
    "start_time": "2023-08-29T09:55:33.947Z"
   },
   {
    "duration": 4,
    "start_time": "2023-08-29T09:56:27.490Z"
   },
   {
    "duration": 75,
    "start_time": "2023-08-29T09:57:10.127Z"
   },
   {
    "duration": 58,
    "start_time": "2023-08-29T09:57:35.048Z"
   },
   {
    "duration": 4,
    "start_time": "2023-08-29T09:57:45.415Z"
   },
   {
    "duration": 4,
    "start_time": "2023-08-29T09:57:49.073Z"
   },
   {
    "duration": 3,
    "start_time": "2023-08-29T09:58:09.350Z"
   },
   {
    "duration": 77,
    "start_time": "2023-08-29T09:58:09.356Z"
   },
   {
    "duration": 19,
    "start_time": "2023-08-29T09:58:09.435Z"
   },
   {
    "duration": 16,
    "start_time": "2023-08-29T09:58:09.455Z"
   },
   {
    "duration": 4,
    "start_time": "2023-08-29T09:58:09.473Z"
   },
   {
    "duration": 8,
    "start_time": "2023-08-29T09:58:09.479Z"
   },
   {
    "duration": 9,
    "start_time": "2023-08-29T09:58:09.488Z"
   },
   {
    "duration": 11,
    "start_time": "2023-08-29T09:58:09.498Z"
   },
   {
    "duration": 47,
    "start_time": "2023-08-29T09:58:09.510Z"
   },
   {
    "duration": 9,
    "start_time": "2023-08-29T09:58:09.558Z"
   },
   {
    "duration": 12,
    "start_time": "2023-08-29T09:58:09.568Z"
   },
   {
    "duration": 10,
    "start_time": "2023-08-29T09:58:09.581Z"
   },
   {
    "duration": 9,
    "start_time": "2023-08-29T09:58:09.593Z"
   },
   {
    "duration": 9,
    "start_time": "2023-08-29T09:58:09.604Z"
   },
   {
    "duration": 11,
    "start_time": "2023-08-29T09:58:09.616Z"
   },
   {
    "duration": 19,
    "start_time": "2023-08-29T09:58:09.628Z"
   },
   {
    "duration": 4,
    "start_time": "2023-08-29T09:58:09.649Z"
   },
   {
    "duration": 18,
    "start_time": "2023-08-29T09:58:09.655Z"
   },
   {
    "duration": 5,
    "start_time": "2023-08-29T09:58:09.674Z"
   },
   {
    "duration": 8,
    "start_time": "2023-08-29T09:58:09.681Z"
   },
   {
    "duration": 19,
    "start_time": "2023-08-29T09:58:09.691Z"
   },
   {
    "duration": 4,
    "start_time": "2023-08-29T09:58:09.712Z"
   },
   {
    "duration": 49,
    "start_time": "2023-08-29T09:58:09.718Z"
   },
   {
    "duration": 25,
    "start_time": "2023-08-29T09:58:09.769Z"
   },
   {
    "duration": 5,
    "start_time": "2023-08-29T09:58:09.795Z"
   },
   {
    "duration": 433,
    "start_time": "2023-08-29T09:58:09.802Z"
   },
   {
    "duration": 23,
    "start_time": "2023-08-29T09:58:10.237Z"
   },
   {
    "duration": 11,
    "start_time": "2023-08-29T09:58:10.261Z"
   },
   {
    "duration": 35,
    "start_time": "2023-08-29T09:58:10.274Z"
   },
   {
    "duration": 18,
    "start_time": "2023-08-29T09:58:10.311Z"
   },
   {
    "duration": 461,
    "start_time": "2023-08-29T09:58:10.331Z"
   },
   {
    "duration": 24,
    "start_time": "2023-08-29T09:58:10.794Z"
   },
   {
    "duration": 11,
    "start_time": "2023-08-29T09:58:10.820Z"
   },
   {
    "duration": 59,
    "start_time": "2023-08-29T09:58:10.833Z"
   },
   {
    "duration": 42,
    "start_time": "2023-08-29T09:58:10.894Z"
   },
   {
    "duration": 344,
    "start_time": "2023-08-29T09:58:10.937Z"
   },
   {
    "duration": 4,
    "start_time": "2023-08-29T09:58:11.283Z"
   },
   {
    "duration": 310,
    "start_time": "2023-08-29T09:58:11.288Z"
   },
   {
    "duration": 4,
    "start_time": "2023-08-29T09:58:11.600Z"
   },
   {
    "duration": 12,
    "start_time": "2023-08-29T09:58:11.605Z"
   },
   {
    "duration": 32,
    "start_time": "2023-08-29T09:58:11.619Z"
   },
   {
    "duration": 273,
    "start_time": "2023-08-29T09:58:11.656Z"
   },
   {
    "duration": 3,
    "start_time": "2023-08-29T09:58:11.930Z"
   },
   {
    "duration": 45,
    "start_time": "2023-08-29T09:58:11.934Z"
   },
   {
    "duration": 6,
    "start_time": "2023-08-29T09:58:11.981Z"
   },
   {
    "duration": 5,
    "start_time": "2023-08-29T09:58:11.988Z"
   },
   {
    "duration": 294,
    "start_time": "2023-08-29T09:58:11.995Z"
   },
   {
    "duration": 4,
    "start_time": "2023-08-29T09:58:12.291Z"
   },
   {
    "duration": 10,
    "start_time": "2023-08-29T09:58:12.297Z"
   },
   {
    "duration": 27,
    "start_time": "2023-08-29T09:58:12.309Z"
   },
   {
    "duration": 305,
    "start_time": "2023-08-29T09:58:12.346Z"
   },
   {
    "duration": 7,
    "start_time": "2023-08-29T09:58:12.654Z"
   },
   {
    "duration": 19,
    "start_time": "2023-08-29T09:58:12.662Z"
   },
   {
    "duration": 17,
    "start_time": "2023-08-29T09:58:12.683Z"
   },
   {
    "duration": 603,
    "start_time": "2023-08-29T09:58:12.702Z"
   },
   {
    "duration": 516,
    "start_time": "2023-08-29T09:58:13.307Z"
   },
   {
    "duration": 399,
    "start_time": "2023-08-29T09:58:13.825Z"
   },
   {
    "duration": 5,
    "start_time": "2023-08-29T09:58:14.225Z"
   },
   {
    "duration": 48,
    "start_time": "2023-08-29T09:58:14.231Z"
   },
   {
    "duration": 33,
    "start_time": "2023-08-29T09:58:14.281Z"
   },
   {
    "duration": 10,
    "start_time": "2023-08-29T09:58:14.316Z"
   },
   {
    "duration": 19,
    "start_time": "2023-08-29T09:58:14.328Z"
   },
   {
    "duration": 7,
    "start_time": "2023-08-29T09:58:14.349Z"
   },
   {
    "duration": 9,
    "start_time": "2023-08-29T09:58:14.358Z"
   },
   {
    "duration": 7,
    "start_time": "2023-08-29T09:58:14.368Z"
   },
   {
    "duration": 6,
    "start_time": "2023-08-29T09:58:14.376Z"
   },
   {
    "duration": 5,
    "start_time": "2023-08-29T09:58:14.384Z"
   },
   {
    "duration": 6,
    "start_time": "2023-08-29T09:58:14.391Z"
   },
   {
    "duration": 5,
    "start_time": "2023-08-29T09:58:14.398Z"
   },
   {
    "duration": 9,
    "start_time": "2023-08-29T09:58:14.404Z"
   },
   {
    "duration": 32,
    "start_time": "2023-08-29T09:58:14.415Z"
   },
   {
    "duration": 4,
    "start_time": "2023-08-29T09:58:14.448Z"
   },
   {
    "duration": 9,
    "start_time": "2023-08-29T09:58:14.454Z"
   },
   {
    "duration": 11,
    "start_time": "2023-08-29T09:58:14.464Z"
   },
   {
    "duration": 8,
    "start_time": "2023-08-29T09:58:14.477Z"
   },
   {
    "duration": 18,
    "start_time": "2023-08-29T09:58:14.487Z"
   },
   {
    "duration": 8,
    "start_time": "2023-08-29T09:58:14.506Z"
   },
   {
    "duration": 9,
    "start_time": "2023-08-29T09:58:14.515Z"
   },
   {
    "duration": 11,
    "start_time": "2023-08-29T09:58:14.525Z"
   },
   {
    "duration": 20,
    "start_time": "2023-08-29T09:58:14.538Z"
   },
   {
    "duration": 29,
    "start_time": "2023-08-29T09:58:14.560Z"
   },
   {
    "duration": 15,
    "start_time": "2023-08-29T09:58:14.590Z"
   },
   {
    "duration": 16,
    "start_time": "2023-08-29T09:58:14.607Z"
   },
   {
    "duration": 3,
    "start_time": "2023-08-29T09:59:45.218Z"
   },
   {
    "duration": 75,
    "start_time": "2023-08-29T09:59:45.223Z"
   },
   {
    "duration": 15,
    "start_time": "2023-08-29T09:59:45.300Z"
   },
   {
    "duration": 33,
    "start_time": "2023-08-29T09:59:45.317Z"
   },
   {
    "duration": 3,
    "start_time": "2023-08-29T09:59:45.352Z"
   },
   {
    "duration": 17,
    "start_time": "2023-08-29T09:59:45.357Z"
   },
   {
    "duration": 22,
    "start_time": "2023-08-29T09:59:45.376Z"
   },
   {
    "duration": 13,
    "start_time": "2023-08-29T09:59:45.399Z"
   },
   {
    "duration": 35,
    "start_time": "2023-08-29T09:59:45.414Z"
   },
   {
    "duration": 6,
    "start_time": "2023-08-29T09:59:45.451Z"
   },
   {
    "duration": 14,
    "start_time": "2023-08-29T09:59:45.461Z"
   },
   {
    "duration": 22,
    "start_time": "2023-08-29T09:59:45.478Z"
   },
   {
    "duration": 12,
    "start_time": "2023-08-29T09:59:45.504Z"
   },
   {
    "duration": 18,
    "start_time": "2023-08-29T09:59:45.518Z"
   },
   {
    "duration": 10,
    "start_time": "2023-08-29T09:59:45.539Z"
   },
   {
    "duration": 6,
    "start_time": "2023-08-29T09:59:45.551Z"
   },
   {
    "duration": 13,
    "start_time": "2023-08-29T09:59:45.560Z"
   },
   {
    "duration": 37,
    "start_time": "2023-08-29T09:59:45.576Z"
   },
   {
    "duration": 9,
    "start_time": "2023-08-29T09:59:45.616Z"
   },
   {
    "duration": 29,
    "start_time": "2023-08-29T09:59:45.627Z"
   },
   {
    "duration": 26,
    "start_time": "2023-08-29T09:59:45.658Z"
   },
   {
    "duration": 12,
    "start_time": "2023-08-29T09:59:45.686Z"
   },
   {
    "duration": 31,
    "start_time": "2023-08-29T09:59:45.701Z"
   },
   {
    "duration": 30,
    "start_time": "2023-08-29T09:59:45.733Z"
   },
   {
    "duration": 16,
    "start_time": "2023-08-29T09:59:45.764Z"
   },
   {
    "duration": 366,
    "start_time": "2023-08-29T09:59:45.782Z"
   },
   {
    "duration": 19,
    "start_time": "2023-08-29T09:59:46.150Z"
   },
   {
    "duration": 4,
    "start_time": "2023-08-29T09:59:46.171Z"
   },
   {
    "duration": 14,
    "start_time": "2023-08-29T09:59:46.179Z"
   },
   {
    "duration": 23,
    "start_time": "2023-08-29T09:59:46.195Z"
   },
   {
    "duration": 449,
    "start_time": "2023-08-29T09:59:46.220Z"
   },
   {
    "duration": 25,
    "start_time": "2023-08-29T09:59:46.670Z"
   },
   {
    "duration": 90,
    "start_time": "2023-08-29T09:59:46.697Z"
   },
   {
    "duration": 37,
    "start_time": "2023-08-29T09:59:46.789Z"
   },
   {
    "duration": 67,
    "start_time": "2023-08-29T09:59:46.828Z"
   },
   {
    "duration": 370,
    "start_time": "2023-08-29T09:59:46.897Z"
   },
   {
    "duration": 4,
    "start_time": "2023-08-29T09:59:47.269Z"
   },
   {
    "duration": 299,
    "start_time": "2023-08-29T09:59:47.274Z"
   },
   {
    "duration": 4,
    "start_time": "2023-08-29T09:59:47.575Z"
   },
   {
    "duration": 19,
    "start_time": "2023-08-29T09:59:47.581Z"
   },
   {
    "duration": 39,
    "start_time": "2023-08-29T09:59:47.602Z"
   },
   {
    "duration": 275,
    "start_time": "2023-08-29T09:59:47.642Z"
   },
   {
    "duration": 2,
    "start_time": "2023-08-29T09:59:47.919Z"
   },
   {
    "duration": 21,
    "start_time": "2023-08-29T09:59:47.923Z"
   },
   {
    "duration": 7,
    "start_time": "2023-08-29T09:59:47.946Z"
   },
   {
    "duration": 8,
    "start_time": "2023-08-29T09:59:47.954Z"
   },
   {
    "duration": 452,
    "start_time": "2023-08-29T09:59:47.963Z"
   },
   {
    "duration": 4,
    "start_time": "2023-08-29T09:59:48.417Z"
   },
   {
    "duration": 16,
    "start_time": "2023-08-29T09:59:48.422Z"
   },
   {
    "duration": 35,
    "start_time": "2023-08-29T09:59:48.439Z"
   },
   {
    "duration": 286,
    "start_time": "2023-08-29T09:59:48.476Z"
   },
   {
    "duration": 5,
    "start_time": "2023-08-29T09:59:48.764Z"
   },
   {
    "duration": 59,
    "start_time": "2023-08-29T09:59:48.771Z"
   },
   {
    "duration": 21,
    "start_time": "2023-08-29T09:59:48.832Z"
   },
   {
    "duration": 460,
    "start_time": "2023-08-29T09:59:48.854Z"
   },
   {
    "duration": 470,
    "start_time": "2023-08-29T09:59:49.316Z"
   },
   {
    "duration": 411,
    "start_time": "2023-08-29T09:59:49.788Z"
   },
   {
    "duration": 5,
    "start_time": "2023-08-29T09:59:50.200Z"
   },
   {
    "duration": 20,
    "start_time": "2023-08-29T09:59:50.206Z"
   },
   {
    "duration": 5,
    "start_time": "2023-08-29T09:59:50.228Z"
   },
   {
    "duration": 11,
    "start_time": "2023-08-29T09:59:50.234Z"
   },
   {
    "duration": 15,
    "start_time": "2023-08-29T09:59:50.247Z"
   },
   {
    "duration": 15,
    "start_time": "2023-08-29T09:59:50.263Z"
   },
   {
    "duration": 12,
    "start_time": "2023-08-29T09:59:50.280Z"
   },
   {
    "duration": 9,
    "start_time": "2023-08-29T09:59:50.293Z"
   },
   {
    "duration": 7,
    "start_time": "2023-08-29T09:59:50.304Z"
   },
   {
    "duration": 37,
    "start_time": "2023-08-29T09:59:50.312Z"
   },
   {
    "duration": 24,
    "start_time": "2023-08-29T09:59:50.350Z"
   },
   {
    "duration": 7,
    "start_time": "2023-08-29T09:59:50.376Z"
   },
   {
    "duration": 24,
    "start_time": "2023-08-29T09:59:50.385Z"
   },
   {
    "duration": 12,
    "start_time": "2023-08-29T09:59:50.411Z"
   },
   {
    "duration": 17,
    "start_time": "2023-08-29T09:59:50.425Z"
   },
   {
    "duration": 20,
    "start_time": "2023-08-29T09:59:50.443Z"
   },
   {
    "duration": 18,
    "start_time": "2023-08-29T09:59:50.464Z"
   },
   {
    "duration": 25,
    "start_time": "2023-08-29T09:59:50.484Z"
   },
   {
    "duration": 30,
    "start_time": "2023-08-29T09:59:50.511Z"
   },
   {
    "duration": 29,
    "start_time": "2023-08-29T09:59:50.542Z"
   },
   {
    "duration": 17,
    "start_time": "2023-08-29T09:59:50.573Z"
   },
   {
    "duration": 22,
    "start_time": "2023-08-29T09:59:50.592Z"
   },
   {
    "duration": 16,
    "start_time": "2023-08-29T09:59:50.616Z"
   },
   {
    "duration": 20,
    "start_time": "2023-08-29T09:59:50.634Z"
   },
   {
    "duration": 19,
    "start_time": "2023-08-29T09:59:50.656Z"
   },
   {
    "duration": 5,
    "start_time": "2023-08-29T09:59:50.681Z"
   },
   {
    "duration": 3,
    "start_time": "2023-08-29T10:00:34.138Z"
   },
   {
    "duration": 86,
    "start_time": "2023-08-29T10:00:34.145Z"
   },
   {
    "duration": 16,
    "start_time": "2023-08-29T10:00:34.233Z"
   },
   {
    "duration": 19,
    "start_time": "2023-08-29T10:00:34.251Z"
   },
   {
    "duration": 14,
    "start_time": "2023-08-29T10:00:34.273Z"
   },
   {
    "duration": 12,
    "start_time": "2023-08-29T10:00:34.288Z"
   },
   {
    "duration": 16,
    "start_time": "2023-08-29T10:00:34.301Z"
   },
   {
    "duration": 8,
    "start_time": "2023-08-29T10:00:34.319Z"
   },
   {
    "duration": 32,
    "start_time": "2023-08-29T10:00:34.328Z"
   },
   {
    "duration": 13,
    "start_time": "2023-08-29T10:00:34.362Z"
   },
   {
    "duration": 18,
    "start_time": "2023-08-29T10:00:34.377Z"
   },
   {
    "duration": 13,
    "start_time": "2023-08-29T10:00:34.396Z"
   },
   {
    "duration": 8,
    "start_time": "2023-08-29T10:00:34.411Z"
   },
   {
    "duration": 15,
    "start_time": "2023-08-29T10:00:34.420Z"
   },
   {
    "duration": 10,
    "start_time": "2023-08-29T10:00:34.437Z"
   },
   {
    "duration": 34,
    "start_time": "2023-08-29T10:00:34.448Z"
   },
   {
    "duration": 10,
    "start_time": "2023-08-29T10:00:34.484Z"
   },
   {
    "duration": 16,
    "start_time": "2023-08-29T10:00:34.496Z"
   },
   {
    "duration": 5,
    "start_time": "2023-08-29T10:00:34.513Z"
   },
   {
    "duration": 7,
    "start_time": "2023-08-29T10:00:34.520Z"
   },
   {
    "duration": 20,
    "start_time": "2023-08-29T10:00:34.528Z"
   },
   {
    "duration": 14,
    "start_time": "2023-08-29T10:00:34.549Z"
   },
   {
    "duration": 25,
    "start_time": "2023-08-29T10:00:34.565Z"
   },
   {
    "duration": 33,
    "start_time": "2023-08-29T10:00:34.592Z"
   },
   {
    "duration": 4,
    "start_time": "2023-08-29T10:00:34.626Z"
   },
   {
    "duration": 343,
    "start_time": "2023-08-29T10:00:34.632Z"
   },
   {
    "duration": 17,
    "start_time": "2023-08-29T10:00:34.976Z"
   },
   {
    "duration": 10,
    "start_time": "2023-08-29T10:00:34.995Z"
   },
   {
    "duration": 17,
    "start_time": "2023-08-29T10:00:35.009Z"
   },
   {
    "duration": 26,
    "start_time": "2023-08-29T10:00:35.028Z"
   },
   {
    "duration": 513,
    "start_time": "2023-08-29T10:00:35.055Z"
   },
   {
    "duration": 26,
    "start_time": "2023-08-29T10:00:35.570Z"
   },
   {
    "duration": 5,
    "start_time": "2023-08-29T10:00:35.597Z"
   },
   {
    "duration": 16,
    "start_time": "2023-08-29T10:00:35.604Z"
   },
   {
    "duration": 24,
    "start_time": "2023-08-29T10:00:35.622Z"
   },
   {
    "duration": 357,
    "start_time": "2023-08-29T10:00:35.648Z"
   },
   {
    "duration": 4,
    "start_time": "2023-08-29T10:00:36.007Z"
   },
   {
    "duration": 306,
    "start_time": "2023-08-29T10:00:36.014Z"
   },
   {
    "duration": 4,
    "start_time": "2023-08-29T10:00:36.321Z"
   },
   {
    "duration": 10,
    "start_time": "2023-08-29T10:00:36.326Z"
   },
   {
    "duration": 21,
    "start_time": "2023-08-29T10:00:36.337Z"
   },
   {
    "duration": 283,
    "start_time": "2023-08-29T10:00:36.360Z"
   },
   {
    "duration": 3,
    "start_time": "2023-08-29T10:00:36.647Z"
   },
   {
    "duration": 8,
    "start_time": "2023-08-29T10:00:36.651Z"
   },
   {
    "duration": 6,
    "start_time": "2023-08-29T10:00:36.661Z"
   },
   {
    "duration": 4,
    "start_time": "2023-08-29T10:00:36.669Z"
   },
   {
    "duration": 513,
    "start_time": "2023-08-29T10:00:36.674Z"
   },
   {
    "duration": 4,
    "start_time": "2023-08-29T10:00:37.188Z"
   },
   {
    "duration": 11,
    "start_time": "2023-08-29T10:00:37.194Z"
   },
   {
    "duration": 24,
    "start_time": "2023-08-29T10:00:37.207Z"
   },
   {
    "duration": 339,
    "start_time": "2023-08-29T10:00:37.233Z"
   },
   {
    "duration": 6,
    "start_time": "2023-08-29T10:00:37.573Z"
   },
   {
    "duration": 22,
    "start_time": "2023-08-29T10:00:37.581Z"
   },
   {
    "duration": 26,
    "start_time": "2023-08-29T10:00:37.606Z"
   },
   {
    "duration": 467,
    "start_time": "2023-08-29T10:00:37.635Z"
   },
   {
    "duration": 497,
    "start_time": "2023-08-29T10:00:38.104Z"
   },
   {
    "duration": 432,
    "start_time": "2023-08-29T10:00:38.603Z"
   },
   {
    "duration": 12,
    "start_time": "2023-08-29T10:00:39.037Z"
   },
   {
    "duration": 14,
    "start_time": "2023-08-29T10:00:39.050Z"
   },
   {
    "duration": 5,
    "start_time": "2023-08-29T10:00:39.066Z"
   },
   {
    "duration": 10,
    "start_time": "2023-08-29T10:00:39.073Z"
   },
   {
    "duration": 5,
    "start_time": "2023-08-29T10:00:39.085Z"
   },
   {
    "duration": 9,
    "start_time": "2023-08-29T10:00:39.092Z"
   },
   {
    "duration": 8,
    "start_time": "2023-08-29T10:00:39.102Z"
   },
   {
    "duration": 8,
    "start_time": "2023-08-29T10:00:39.111Z"
   },
   {
    "duration": 7,
    "start_time": "2023-08-29T10:00:39.121Z"
   },
   {
    "duration": 20,
    "start_time": "2023-08-29T10:00:39.130Z"
   },
   {
    "duration": 7,
    "start_time": "2023-08-29T10:00:39.152Z"
   },
   {
    "duration": 13,
    "start_time": "2023-08-29T10:00:39.160Z"
   },
   {
    "duration": 8,
    "start_time": "2023-08-29T10:00:39.174Z"
   },
   {
    "duration": 11,
    "start_time": "2023-08-29T10:00:39.183Z"
   },
   {
    "duration": 6,
    "start_time": "2023-08-29T10:00:39.195Z"
   },
   {
    "duration": 12,
    "start_time": "2023-08-29T10:00:39.202Z"
   },
   {
    "duration": 8,
    "start_time": "2023-08-29T10:00:39.216Z"
   },
   {
    "duration": 21,
    "start_time": "2023-08-29T10:00:39.226Z"
   },
   {
    "duration": 10,
    "start_time": "2023-08-29T10:00:39.248Z"
   },
   {
    "duration": 9,
    "start_time": "2023-08-29T10:00:39.259Z"
   },
   {
    "duration": 7,
    "start_time": "2023-08-29T10:00:39.269Z"
   },
   {
    "duration": 5,
    "start_time": "2023-08-29T10:00:39.277Z"
   },
   {
    "duration": 4,
    "start_time": "2023-08-29T10:00:39.285Z"
   },
   {
    "duration": 13,
    "start_time": "2023-08-29T10:00:39.291Z"
   },
   {
    "duration": 8,
    "start_time": "2023-08-29T10:00:39.306Z"
   },
   {
    "duration": 30,
    "start_time": "2023-08-29T10:00:39.320Z"
   },
   {
    "duration": 1279,
    "start_time": "2023-08-29T10:02:25.018Z"
   },
   {
    "duration": 73,
    "start_time": "2023-08-29T10:02:26.299Z"
   },
   {
    "duration": 15,
    "start_time": "2023-08-29T10:02:26.373Z"
   },
   {
    "duration": 72,
    "start_time": "2023-08-29T10:02:26.390Z"
   },
   {
    "duration": 3,
    "start_time": "2023-08-29T10:02:26.464Z"
   },
   {
    "duration": 19,
    "start_time": "2023-08-29T10:02:26.469Z"
   },
   {
    "duration": 29,
    "start_time": "2023-08-29T10:02:26.490Z"
   },
   {
    "duration": 23,
    "start_time": "2023-08-29T10:02:26.521Z"
   },
   {
    "duration": 39,
    "start_time": "2023-08-29T10:02:26.546Z"
   },
   {
    "duration": 29,
    "start_time": "2023-08-29T10:02:26.588Z"
   },
   {
    "duration": 23,
    "start_time": "2023-08-29T10:02:26.619Z"
   },
   {
    "duration": 49,
    "start_time": "2023-08-29T10:02:26.644Z"
   },
   {
    "duration": 44,
    "start_time": "2023-08-29T10:02:26.695Z"
   },
   {
    "duration": 25,
    "start_time": "2023-08-29T10:02:26.740Z"
   },
   {
    "duration": 24,
    "start_time": "2023-08-29T10:02:26.766Z"
   },
   {
    "duration": 15,
    "start_time": "2023-08-29T10:02:26.792Z"
   },
   {
    "duration": 17,
    "start_time": "2023-08-29T10:02:26.809Z"
   },
   {
    "duration": 20,
    "start_time": "2023-08-29T10:02:26.827Z"
   },
   {
    "duration": 22,
    "start_time": "2023-08-29T10:02:26.849Z"
   },
   {
    "duration": 18,
    "start_time": "2023-08-29T10:02:26.872Z"
   },
   {
    "duration": 15,
    "start_time": "2023-08-29T10:02:26.891Z"
   },
   {
    "duration": 5,
    "start_time": "2023-08-29T10:02:26.908Z"
   },
   {
    "duration": 18,
    "start_time": "2023-08-29T10:02:26.915Z"
   },
   {
    "duration": 25,
    "start_time": "2023-08-29T10:02:26.935Z"
   },
   {
    "duration": 4,
    "start_time": "2023-08-29T10:02:26.962Z"
   },
   {
    "duration": 385,
    "start_time": "2023-08-29T10:02:26.968Z"
   },
   {
    "duration": 18,
    "start_time": "2023-08-29T10:02:27.355Z"
   },
   {
    "duration": 29,
    "start_time": "2023-08-29T10:02:27.377Z"
   },
   {
    "duration": 71,
    "start_time": "2023-08-29T10:02:27.408Z"
   },
   {
    "duration": 62,
    "start_time": "2023-08-29T10:02:27.481Z"
   },
   {
    "duration": 472,
    "start_time": "2023-08-29T10:02:27.545Z"
   },
   {
    "duration": 33,
    "start_time": "2023-08-29T10:02:28.018Z"
   },
   {
    "duration": 4,
    "start_time": "2023-08-29T10:02:28.053Z"
   },
   {
    "duration": 10,
    "start_time": "2023-08-29T10:02:28.059Z"
   },
   {
    "duration": 29,
    "start_time": "2023-08-29T10:02:28.071Z"
   },
   {
    "duration": 355,
    "start_time": "2023-08-29T10:02:28.102Z"
   },
   {
    "duration": 5,
    "start_time": "2023-08-29T10:02:28.459Z"
   },
   {
    "duration": 339,
    "start_time": "2023-08-29T10:02:28.465Z"
   },
   {
    "duration": 5,
    "start_time": "2023-08-29T10:02:28.806Z"
   },
   {
    "duration": 14,
    "start_time": "2023-08-29T10:02:28.812Z"
   },
   {
    "duration": 34,
    "start_time": "2023-08-29T10:02:28.828Z"
   },
   {
    "duration": 361,
    "start_time": "2023-08-29T10:02:28.863Z"
   },
   {
    "duration": 3,
    "start_time": "2023-08-29T10:02:29.226Z"
   },
   {
    "duration": 20,
    "start_time": "2023-08-29T10:02:29.230Z"
   },
   {
    "duration": 15,
    "start_time": "2023-08-29T10:02:29.252Z"
   },
   {
    "duration": 9,
    "start_time": "2023-08-29T10:02:29.269Z"
   },
   {
    "duration": 291,
    "start_time": "2023-08-29T10:02:29.279Z"
   },
   {
    "duration": 4,
    "start_time": "2023-08-29T10:02:29.571Z"
   },
   {
    "duration": 21,
    "start_time": "2023-08-29T10:02:29.577Z"
   },
   {
    "duration": 40,
    "start_time": "2023-08-29T10:02:29.600Z"
   },
   {
    "duration": 285,
    "start_time": "2023-08-29T10:02:29.641Z"
   },
   {
    "duration": 6,
    "start_time": "2023-08-29T10:02:29.928Z"
   },
   {
    "duration": 27,
    "start_time": "2023-08-29T10:02:29.946Z"
   },
   {
    "duration": 61,
    "start_time": "2023-08-29T10:02:29.975Z"
   },
   {
    "duration": 499,
    "start_time": "2023-08-29T10:02:30.037Z"
   },
   {
    "duration": 492,
    "start_time": "2023-08-29T10:02:30.538Z"
   },
   {
    "duration": 409,
    "start_time": "2023-08-29T10:02:31.032Z"
   },
   {
    "duration": 6,
    "start_time": "2023-08-29T10:02:31.442Z"
   },
   {
    "duration": 117,
    "start_time": "2023-08-29T10:02:31.450Z"
   },
   {
    "duration": 27,
    "start_time": "2023-08-29T10:02:31.569Z"
   },
   {
    "duration": 48,
    "start_time": "2023-08-29T10:02:31.598Z"
   },
   {
    "duration": 58,
    "start_time": "2023-08-29T10:02:31.648Z"
   },
   {
    "duration": 33,
    "start_time": "2023-08-29T10:02:31.707Z"
   },
   {
    "duration": 42,
    "start_time": "2023-08-29T10:02:31.742Z"
   },
   {
    "duration": 44,
    "start_time": "2023-08-29T10:02:31.786Z"
   },
   {
    "duration": 80,
    "start_time": "2023-08-29T10:02:31.832Z"
   },
   {
    "duration": 40,
    "start_time": "2023-08-29T10:02:31.913Z"
   },
   {
    "duration": 29,
    "start_time": "2023-08-29T10:02:31.955Z"
   },
   {
    "duration": 36,
    "start_time": "2023-08-29T10:02:31.986Z"
   },
   {
    "duration": 25,
    "start_time": "2023-08-29T10:02:32.024Z"
   },
   {
    "duration": 41,
    "start_time": "2023-08-29T10:02:32.050Z"
   },
   {
    "duration": 30,
    "start_time": "2023-08-29T10:02:32.092Z"
   },
   {
    "duration": 37,
    "start_time": "2023-08-29T10:02:32.124Z"
   },
   {
    "duration": 47,
    "start_time": "2023-08-29T10:02:32.162Z"
   },
   {
    "duration": 28,
    "start_time": "2023-08-29T10:02:32.210Z"
   },
   {
    "duration": 12,
    "start_time": "2023-08-29T10:02:32.239Z"
   },
   {
    "duration": 35,
    "start_time": "2023-08-29T10:02:32.252Z"
   },
   {
    "duration": 41,
    "start_time": "2023-08-29T10:02:32.289Z"
   },
   {
    "duration": 14,
    "start_time": "2023-08-29T10:02:32.332Z"
   },
   {
    "duration": 42,
    "start_time": "2023-08-29T10:02:32.348Z"
   },
   {
    "duration": 18,
    "start_time": "2023-08-29T10:02:32.392Z"
   },
   {
    "duration": 14,
    "start_time": "2023-08-29T10:02:32.417Z"
   },
   {
    "duration": 46,
    "start_time": "2023-08-29T10:02:32.433Z"
   }
  ],
  "kernelspec": {
   "display_name": "Python 3 (ipykernel)",
   "language": "python",
   "name": "python3"
  },
  "language_info": {
   "codemirror_mode": {
    "name": "ipython",
    "version": 3
   },
   "file_extension": ".py",
   "mimetype": "text/x-python",
   "name": "python",
   "nbconvert_exporter": "python",
   "pygments_lexer": "ipython3",
   "version": "3.9.5"
  },
  "toc": {
   "base_numbering": 1,
   "nav_menu": {},
   "number_sections": true,
   "sideBar": true,
   "skip_h1_title": true,
   "title_cell": "Table of Contents",
   "title_sidebar": "Contents",
   "toc_cell": false,
   "toc_position": {
    "height": "calc(100% - 180px)",
    "left": "10px",
    "top": "150px",
    "width": "238.396px"
   },
   "toc_section_display": true,
   "toc_window_display": true
  }
 },
 "nbformat": 4,
 "nbformat_minor": 2
}
